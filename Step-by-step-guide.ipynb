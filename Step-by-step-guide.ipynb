{
  "cells": [
    {
      "attachments": {},
      "cell_type": "markdown",
      "metadata": {},
      "source": [
        "<h1 style=\"text-align:center\">Real-time Sentiment Analysis and Emotion Detection of Twitter Data</h1>"
      ]
    },
    {
      "attachments": {},
      "cell_type": "markdown",
      "metadata": {},
      "source": [
        "This project explores sentiment analysis and emotion detection along with text preprocessing and feature engineering methods. Also, we are exploring different machine learning techniques to train classifier models and evaluate using a confusion matrix. In the second half of the project, we'll pull real-time data from Twitter, and predict sentiment and emotions to generate insights. Also, we generate a script for automated reporting, which sends reports to a given set of e-mail addresses. This project gives you an overall picture of implementing an end-to-end pipeline that provides powerful insights about any product available on the market.\n",
        "This project covers the following topics.\n",
        "- Building an emotion classifier model\n",
        "- Label encoding\n",
        "- Train-test split\n",
        "- Feature engineering\n",
        "- Model building\n",
        "- Confusion matrix for a selected model\n",
        "- Real-time data extraction\n",
        "- Generating sentiment and emotions\n",
        "- Visualizations and insights\n",
        "- Automated report generation"
      ]
    },
    {
      "attachments": {},
      "cell_type": "markdown",
      "metadata": {},
      "source": [
        "<img src=\"flowchart.png\">"
      ]
    },
    {
      "cell_type": "markdown",
      "metadata": {},
      "source": [
        "## Imports"
      ]
    },
    {
      "cell_type": "code",
      "execution_count": 23,
      "metadata": {
        "id": "lNCOCKqSBjUU"
      },
      "outputs": [],
      "source": [
        "import pandas as pd\n",
        "from nltk.corpus import stopwords\n",
        "from nltk.stem.wordnet import WordNetLemmatizer\n",
        "import string\n",
        "from textblob.classifiers import NaiveBayesClassifier\n",
        "from textblob import TextBlob\n",
        "from nltk.corpus import stopwords\n",
        "from nltk.stem import PorterStemmer\n",
        "from textblob import Word\n",
        "from nltk.util import ngrams\n",
        "import re\n",
        "from nltk.tokenize import word_tokenize\n",
        "import matplotlib.pyplot as plt\n",
        "from sklearn.feature_extraction.text import CountVectorizer,TfidfVectorizer\n",
        "from sklearn.decomposition import LatentDirichletAllocation\n",
        "import sklearn.feature_extraction.text as text\n",
        "from sklearn.decomposition import NMF, LatentDirichletAllocation, TruncatedSVD\n",
        "from sklearn import model_selection, preprocessing, linear_model, naive_bayes, metrics, svm\n",
        "import xgboost\n",
        "from sklearn import decomposition, ensemble\n",
        "import pandas, numpy, textblob, string\n",
        "import re\n",
        "import nltk\n",
        "from sklearn.metrics import classification_report\n",
        "from sklearn.metrics import confusion_matrix\n",
        "from sklearn.metrics import accuracy_score\n",
        "from sklearn.metrics import mean_absolute_error"
      ]
    },
    {
      "cell_type": "code",
      "execution_count": 24,
      "metadata": {},
      "outputs": [],
      "source": [
        "import seaborn as sns\n",
        "import matplotlib.pyplot as plt\n",
        "plt.style.use('Solarize_Light2')"
      ]
    },
    {
      "cell_type": "code",
      "execution_count": 25,
      "metadata": {
        "id": "lmkyyK2F7NE7"
      },
      "outputs": [
        {
          "name": "stderr",
          "output_type": "stream",
          "text": [
            "[nltk_data] Downloading package stopwords to\n",
            "[nltk_data]     C:\\Users\\USER\\AppData\\Roaming\\nltk_data...\n",
            "[nltk_data]   Package stopwords is already up-to-date!\n"
          ]
        },
        {
          "data": {
            "text/plain": [
              "True"
            ]
          },
          "execution_count": 25,
          "metadata": {},
          "output_type": "execute_result"
        }
      ],
      "source": [
        "nltk.download('stopwords')\n"
      ]
    },
    {
      "cell_type": "code",
      "execution_count": 26,
      "metadata": {
        "colab": {
          "base_uri": "https://localhost:8080/",
          "height": 423
        },
        "id": "cSnSMbp85B-a",
        "outputId": "7ceb4613-601d-43f3-aa90-29660d8a9ebb"
      },
      "outputs": [
        {
          "data": {
            "text/html": [
              "<div>\n",
              "<style scoped>\n",
              "    .dataframe tbody tr th:only-of-type {\n",
              "        vertical-align: middle;\n",
              "    }\n",
              "\n",
              "    .dataframe tbody tr th {\n",
              "        vertical-align: top;\n",
              "    }\n",
              "\n",
              "    .dataframe thead th {\n",
              "        text-align: right;\n",
              "    }\n",
              "</style>\n",
              "<table border=\"1\" class=\"dataframe\">\n",
              "  <thead>\n",
              "    <tr style=\"text-align: right;\">\n",
              "      <th></th>\n",
              "      <th>ID</th>\n",
              "      <th>sentiment</th>\n",
              "      <th>content</th>\n",
              "    </tr>\n",
              "  </thead>\n",
              "  <tbody>\n",
              "    <tr>\n",
              "      <th>0</th>\n",
              "      <td>10941</td>\n",
              "      <td>anger</td>\n",
              "      <td>At the point today where if someone says somet...</td>\n",
              "    </tr>\n",
              "    <tr>\n",
              "      <th>1</th>\n",
              "      <td>10942</td>\n",
              "      <td>anger</td>\n",
              "      <td>@CorningFootball  IT'S GAME DAY!!!!      T MIN...</td>\n",
              "    </tr>\n",
              "    <tr>\n",
              "      <th>2</th>\n",
              "      <td>10943</td>\n",
              "      <td>anger</td>\n",
              "      <td>This game has pissed me off more than any othe...</td>\n",
              "    </tr>\n",
              "    <tr>\n",
              "      <th>3</th>\n",
              "      <td>10944</td>\n",
              "      <td>anger</td>\n",
              "      <td>@spamvicious I've just found out it's Candice ...</td>\n",
              "    </tr>\n",
              "    <tr>\n",
              "      <th>4</th>\n",
              "      <td>10945</td>\n",
              "      <td>anger</td>\n",
              "      <td>@moocowward @mrsajhargreaves @Melly77 @GaryBar...</td>\n",
              "    </tr>\n",
              "    <tr>\n",
              "      <th>...</th>\n",
              "      <td>...</td>\n",
              "      <td>...</td>\n",
              "      <td>...</td>\n",
              "    </tr>\n",
              "    <tr>\n",
              "      <th>7097</th>\n",
              "      <td>40781</td>\n",
              "      <td>sadness</td>\n",
              "      <td>@VivienLloyd Thank you so much! Just home - st...</td>\n",
              "    </tr>\n",
              "    <tr>\n",
              "      <th>7098</th>\n",
              "      <td>40782</td>\n",
              "      <td>sadness</td>\n",
              "      <td>Just put the winter duvet on ☃️❄️🌬☔️</td>\n",
              "    </tr>\n",
              "    <tr>\n",
              "      <th>7099</th>\n",
              "      <td>40783</td>\n",
              "      <td>sadness</td>\n",
              "      <td>@SilkInSide @TommyJoeRatliff that's so pretty!...</td>\n",
              "    </tr>\n",
              "    <tr>\n",
              "      <th>7100</th>\n",
              "      <td>40784</td>\n",
              "      <td>sadness</td>\n",
              "      <td>@BluesfestByron second artist announcement loo...</td>\n",
              "    </tr>\n",
              "    <tr>\n",
              "      <th>7101</th>\n",
              "      <td>40785</td>\n",
              "      <td>sadness</td>\n",
              "      <td>I can literally eat creamy pesto pasta topped ...</td>\n",
              "    </tr>\n",
              "  </tbody>\n",
              "</table>\n",
              "<p>7102 rows × 3 columns</p>\n",
              "</div>"
            ],
            "text/plain": [
              "         ID sentiment                                            content\n",
              "0     10941     anger  At the point today where if someone says somet...\n",
              "1     10942     anger  @CorningFootball  IT'S GAME DAY!!!!      T MIN...\n",
              "2     10943     anger  This game has pissed me off more than any othe...\n",
              "3     10944     anger  @spamvicious I've just found out it's Candice ...\n",
              "4     10945     anger  @moocowward @mrsajhargreaves @Melly77 @GaryBar...\n",
              "...     ...       ...                                                ...\n",
              "7097  40781   sadness  @VivienLloyd Thank you so much! Just home - st...\n",
              "7098  40782   sadness              Just put the winter duvet on ☃️❄️🌬☔️ \n",
              "7099  40783   sadness  @SilkInSide @TommyJoeRatliff that's so pretty!...\n",
              "7100  40784   sadness  @BluesfestByron second artist announcement loo...\n",
              "7101  40785   sadness  I can literally eat creamy pesto pasta topped ...\n",
              "\n",
              "[7102 rows x 3 columns]"
            ]
          },
          "execution_count": 26,
          "metadata": {},
          "output_type": "execute_result"
        }
      ],
      "source": [
        "data = pd.read_csv(\"./eng_dataset.csv\")\n",
        "data"
      ]
    },
    {
      "cell_type": "code",
      "execution_count": 27,
      "metadata": {
        "colab": {
          "base_uri": "https://localhost:8080/"
        },
        "id": "HcPHK3j46VLf",
        "outputId": "a0ffe3e2-959f-4f86-86e4-08057ed6ea2a"
      },
      "outputs": [
        {
          "data": {
            "text/plain": [
              "fear       2252\n",
              "anger      1701\n",
              "joy        1616\n",
              "sadness    1533\n",
              "Name: sentiment, dtype: int64"
            ]
          },
          "execution_count": 27,
          "metadata": {},
          "output_type": "execute_result"
        }
      ],
      "source": [
        "data[\"sentiment\"].value_counts()"
      ]
    },
    {
      "cell_type": "code",
      "execution_count": 28,
      "metadata": {
        "id": "ZCuQYRev6jp4"
      },
      "outputs": [],
      "source": [
        "copy = data.copy()"
      ]
    },
    {
      "cell_type": "code",
      "execution_count": 29,
      "metadata": {
        "colab": {
          "base_uri": "https://localhost:8080/",
          "height": 206
        },
        "id": "sMKiIQZzBZuU",
        "outputId": "8ba1df81-eaa1-4744-fecd-c21af8dc399e"
      },
      "outputs": [
        {
          "data": {
            "text/html": [
              "<div>\n",
              "<style scoped>\n",
              "    .dataframe tbody tr th:only-of-type {\n",
              "        vertical-align: middle;\n",
              "    }\n",
              "\n",
              "    .dataframe tbody tr th {\n",
              "        vertical-align: top;\n",
              "    }\n",
              "\n",
              "    .dataframe thead th {\n",
              "        text-align: right;\n",
              "    }\n",
              "</style>\n",
              "<table border=\"1\" class=\"dataframe\">\n",
              "  <thead>\n",
              "    <tr style=\"text-align: right;\">\n",
              "      <th></th>\n",
              "      <th>ID</th>\n",
              "      <th>sentiment</th>\n",
              "      <th>content</th>\n",
              "    </tr>\n",
              "  </thead>\n",
              "  <tbody>\n",
              "    <tr>\n",
              "      <th>0</th>\n",
              "      <td>10941</td>\n",
              "      <td>anger</td>\n",
              "      <td>At the point today where if someone says somet...</td>\n",
              "    </tr>\n",
              "    <tr>\n",
              "      <th>1</th>\n",
              "      <td>10942</td>\n",
              "      <td>anger</td>\n",
              "      <td>@CorningFootball  IT'S GAME DAY!!!!      T MIN...</td>\n",
              "    </tr>\n",
              "    <tr>\n",
              "      <th>2</th>\n",
              "      <td>10943</td>\n",
              "      <td>anger</td>\n",
              "      <td>This game has pissed me off more than any othe...</td>\n",
              "    </tr>\n",
              "    <tr>\n",
              "      <th>3</th>\n",
              "      <td>10944</td>\n",
              "      <td>anger</td>\n",
              "      <td>@spamvicious I've just found out it's Candice ...</td>\n",
              "    </tr>\n",
              "    <tr>\n",
              "      <th>4</th>\n",
              "      <td>10945</td>\n",
              "      <td>anger</td>\n",
              "      <td>@moocowward @mrsajhargreaves @Melly77 @GaryBar...</td>\n",
              "    </tr>\n",
              "  </tbody>\n",
              "</table>\n",
              "</div>"
            ],
            "text/plain": [
              "      ID sentiment                                            content\n",
              "0  10941     anger  At the point today where if someone says somet...\n",
              "1  10942     anger  @CorningFootball  IT'S GAME DAY!!!!      T MIN...\n",
              "2  10943     anger  This game has pissed me off more than any othe...\n",
              "3  10944     anger  @spamvicious I've just found out it's Candice ...\n",
              "4  10945     anger  @moocowward @mrsajhargreaves @Melly77 @GaryBar..."
            ]
          },
          "execution_count": 29,
          "metadata": {},
          "output_type": "execute_result"
        }
      ],
      "source": [
        "data.head()"
      ]
    },
    {
      "attachments": {},
      "cell_type": "markdown",
      "metadata": {
        "id": "19RHY4OxBRSQ"
      },
      "source": [
        "## Preprocessing"
      ]
    },
    {
      "attachments": {},
      "cell_type": "markdown",
      "metadata": {},
      "source": [
        "Preprocessing and Data cleaning is important to obtain better features and accuracy. You can achieve this by doing text preprocessing steps on the data.\n",
        "The preprocessing steps are as follows.\n",
        "1. Lowercase\n",
        "2. Remove special characters\n",
        "3. Remove punctuation\n",
        "4. Remove stop words\n",
        "5. Correct spelling\n",
        "6. Normalization"
      ]
    },
    {
      "cell_type": "code",
      "execution_count": 30,
      "metadata": {},
      "outputs": [
        {
          "data": {
            "text/html": [
              "<div>\n",
              "<style scoped>\n",
              "    .dataframe tbody tr th:only-of-type {\n",
              "        vertical-align: middle;\n",
              "    }\n",
              "\n",
              "    .dataframe tbody tr th {\n",
              "        vertical-align: top;\n",
              "    }\n",
              "\n",
              "    .dataframe thead th {\n",
              "        text-align: right;\n",
              "    }\n",
              "</style>\n",
              "<table border=\"1\" class=\"dataframe\">\n",
              "  <thead>\n",
              "    <tr style=\"text-align: right;\">\n",
              "      <th></th>\n",
              "      <th>content</th>\n",
              "    </tr>\n",
              "  </thead>\n",
              "  <tbody>\n",
              "    <tr>\n",
              "      <th>0</th>\n",
              "      <td>At the point today where if someone says somet...</td>\n",
              "    </tr>\n",
              "    <tr>\n",
              "      <th>1</th>\n",
              "      <td>@CorningFootball  IT'S GAME DAY!!!!      T MIN...</td>\n",
              "    </tr>\n",
              "    <tr>\n",
              "      <th>2</th>\n",
              "      <td>This game has pissed me off more than any othe...</td>\n",
              "    </tr>\n",
              "    <tr>\n",
              "      <th>3</th>\n",
              "      <td>@spamvicious I've just found out it's Candice ...</td>\n",
              "    </tr>\n",
              "    <tr>\n",
              "      <th>4</th>\n",
              "      <td>@moocowward @mrsajhargreaves @Melly77 @GaryBar...</td>\n",
              "    </tr>\n",
              "    <tr>\n",
              "      <th>...</th>\n",
              "      <td>...</td>\n",
              "    </tr>\n",
              "    <tr>\n",
              "      <th>7097</th>\n",
              "      <td>@VivienLloyd Thank you so much! Just home - st...</td>\n",
              "    </tr>\n",
              "    <tr>\n",
              "      <th>7098</th>\n",
              "      <td>Just put the winter duvet on ☃️❄️🌬☔️</td>\n",
              "    </tr>\n",
              "    <tr>\n",
              "      <th>7099</th>\n",
              "      <td>@SilkInSide @TommyJoeRatliff that's so pretty!...</td>\n",
              "    </tr>\n",
              "    <tr>\n",
              "      <th>7100</th>\n",
              "      <td>@BluesfestByron second artist announcement loo...</td>\n",
              "    </tr>\n",
              "    <tr>\n",
              "      <th>7101</th>\n",
              "      <td>I can literally eat creamy pesto pasta topped ...</td>\n",
              "    </tr>\n",
              "  </tbody>\n",
              "</table>\n",
              "<p>7102 rows × 1 columns</p>\n",
              "</div>"
            ],
            "text/plain": [
              "                                                content\n",
              "0     At the point today where if someone says somet...\n",
              "1     @CorningFootball  IT'S GAME DAY!!!!      T MIN...\n",
              "2     This game has pissed me off more than any othe...\n",
              "3     @spamvicious I've just found out it's Candice ...\n",
              "4     @moocowward @mrsajhargreaves @Melly77 @GaryBar...\n",
              "...                                                 ...\n",
              "7097  @VivienLloyd Thank you so much! Just home - st...\n",
              "7098              Just put the winter duvet on ☃️❄️🌬☔️ \n",
              "7099  @SilkInSide @TommyJoeRatliff that's so pretty!...\n",
              "7100  @BluesfestByron second artist announcement loo...\n",
              "7101  I can literally eat creamy pesto pasta topped ...\n",
              "\n",
              "[7102 rows x 1 columns]"
            ]
          },
          "execution_count": 30,
          "metadata": {},
          "output_type": "execute_result"
        }
      ],
      "source": [
        "data[[\"content\"]]"
      ]
    },
    {
      "attachments": {},
      "cell_type": "markdown",
      "metadata": {},
      "source": [
        "### lowercase"
      ]
    },
    {
      "cell_type": "code",
      "execution_count": 31,
      "metadata": {
        "id": "F_FcVrpu7Fwk"
      },
      "outputs": [],
      "source": [
        "#convert uppercase letters to lower case\n",
        "data['content'] = data['content'].apply(lambda x: \" \".join(x.lower() for x in x.split()))"
      ]
    },
    {
      "cell_type": "code",
      "execution_count": 32,
      "metadata": {},
      "outputs": [
        {
          "data": {
            "text/html": [
              "<div>\n",
              "<style scoped>\n",
              "    .dataframe tbody tr th:only-of-type {\n",
              "        vertical-align: middle;\n",
              "    }\n",
              "\n",
              "    .dataframe tbody tr th {\n",
              "        vertical-align: top;\n",
              "    }\n",
              "\n",
              "    .dataframe thead th {\n",
              "        text-align: right;\n",
              "    }\n",
              "</style>\n",
              "<table border=\"1\" class=\"dataframe\">\n",
              "  <thead>\n",
              "    <tr style=\"text-align: right;\">\n",
              "      <th></th>\n",
              "      <th>content</th>\n",
              "    </tr>\n",
              "  </thead>\n",
              "  <tbody>\n",
              "    <tr>\n",
              "      <th>0</th>\n",
              "      <td>at the point today where if someone says somet...</td>\n",
              "    </tr>\n",
              "    <tr>\n",
              "      <th>1</th>\n",
              "      <td>@corningfootball it's game day!!!! t minus 14:...</td>\n",
              "    </tr>\n",
              "    <tr>\n",
              "      <th>2</th>\n",
              "      <td>this game has pissed me off more than any othe...</td>\n",
              "    </tr>\n",
              "    <tr>\n",
              "      <th>3</th>\n",
              "      <td>@spamvicious i've just found out it's candice ...</td>\n",
              "    </tr>\n",
              "    <tr>\n",
              "      <th>4</th>\n",
              "      <td>@moocowward @mrsajhargreaves @melly77 @garybar...</td>\n",
              "    </tr>\n",
              "  </tbody>\n",
              "</table>\n",
              "</div>"
            ],
            "text/plain": [
              "                                             content\n",
              "0  at the point today where if someone says somet...\n",
              "1  @corningfootball it's game day!!!! t minus 14:...\n",
              "2  this game has pissed me off more than any othe...\n",
              "3  @spamvicious i've just found out it's candice ...\n",
              "4  @moocowward @mrsajhargreaves @melly77 @garybar..."
            ]
          },
          "execution_count": 32,
          "metadata": {},
          "output_type": "execute_result"
        }
      ],
      "source": [
        "data[[\"content\"]].head()"
      ]
    },
    {
      "attachments": {},
      "cell_type": "markdown",
      "metadata": {},
      "source": [
        "### removing special characters and ponctuation"
      ]
    },
    {
      "cell_type": "code",
      "execution_count": 33,
      "metadata": {},
      "outputs": [
        {
          "name": "stderr",
          "output_type": "stream",
          "text": [
            "C:\\Users\\USER\\AppData\\Local\\Temp\\ipykernel_17676\\2675422991.py:2: FutureWarning: The default value of regex will change from True to False in a future version.\n",
            "  data['content'] = data['content'].str.replace('[^\\w\\s]','')\n"
          ]
        }
      ],
      "source": [
        "#remove white spaces and special characters\n",
        "data['content'] = data['content'].str.replace('[^\\w\\s]','')"
      ]
    },
    {
      "cell_type": "code",
      "execution_count": 34,
      "metadata": {},
      "outputs": [
        {
          "data": {
            "text/html": [
              "<div>\n",
              "<style scoped>\n",
              "    .dataframe tbody tr th:only-of-type {\n",
              "        vertical-align: middle;\n",
              "    }\n",
              "\n",
              "    .dataframe tbody tr th {\n",
              "        vertical-align: top;\n",
              "    }\n",
              "\n",
              "    .dataframe thead th {\n",
              "        text-align: right;\n",
              "    }\n",
              "</style>\n",
              "<table border=\"1\" class=\"dataframe\">\n",
              "  <thead>\n",
              "    <tr style=\"text-align: right;\">\n",
              "      <th></th>\n",
              "      <th>content</th>\n",
              "    </tr>\n",
              "  </thead>\n",
              "  <tbody>\n",
              "    <tr>\n",
              "      <th>0</th>\n",
              "      <td>at the point today where if someone says somet...</td>\n",
              "    </tr>\n",
              "    <tr>\n",
              "      <th>1</th>\n",
              "      <td>corningfootball its game day t minus 1430 rele...</td>\n",
              "    </tr>\n",
              "    <tr>\n",
              "      <th>2</th>\n",
              "      <td>this game has pissed me off more than any othe...</td>\n",
              "    </tr>\n",
              "    <tr>\n",
              "      <th>3</th>\n",
              "      <td>spamvicious ive just found out its candice and...</td>\n",
              "    </tr>\n",
              "    <tr>\n",
              "      <th>4</th>\n",
              "      <td>moocowward mrsajhargreaves melly77 garybarlow ...</td>\n",
              "    </tr>\n",
              "  </tbody>\n",
              "</table>\n",
              "</div>"
            ],
            "text/plain": [
              "                                             content\n",
              "0  at the point today where if someone says somet...\n",
              "1  corningfootball its game day t minus 1430 rele...\n",
              "2  this game has pissed me off more than any othe...\n",
              "3  spamvicious ive just found out its candice and...\n",
              "4  moocowward mrsajhargreaves melly77 garybarlow ..."
            ]
          },
          "execution_count": 34,
          "metadata": {},
          "output_type": "execute_result"
        }
      ],
      "source": [
        "data[[\"content\"]].head()"
      ]
    },
    {
      "attachments": {},
      "cell_type": "markdown",
      "metadata": {},
      "source": [
        "### removing stopwords"
      ]
    },
    {
      "cell_type": "code",
      "execution_count": 35,
      "metadata": {},
      "outputs": [],
      "source": [
        "stop = stopwords.words(\"english\")"
      ]
    },
    {
      "cell_type": "code",
      "execution_count": 36,
      "metadata": {},
      "outputs": [],
      "source": [
        "data[\"content\"] = data[\"content\"].apply(lambda x: \" \".join(x for x in x.split() if x not in stop))\n"
      ]
    },
    {
      "cell_type": "code",
      "execution_count": 37,
      "metadata": {},
      "outputs": [
        {
          "data": {
            "text/html": [
              "<div>\n",
              "<style scoped>\n",
              "    .dataframe tbody tr th:only-of-type {\n",
              "        vertical-align: middle;\n",
              "    }\n",
              "\n",
              "    .dataframe tbody tr th {\n",
              "        vertical-align: top;\n",
              "    }\n",
              "\n",
              "    .dataframe thead th {\n",
              "        text-align: right;\n",
              "    }\n",
              "</style>\n",
              "<table border=\"1\" class=\"dataframe\">\n",
              "  <thead>\n",
              "    <tr style=\"text-align: right;\">\n",
              "      <th></th>\n",
              "      <th>content</th>\n",
              "    </tr>\n",
              "  </thead>\n",
              "  <tbody>\n",
              "    <tr>\n",
              "      <th>0</th>\n",
              "      <td>point today someone says something remotely ki...</td>\n",
              "    </tr>\n",
              "    <tr>\n",
              "      <th>1</th>\n",
              "      <td>corningfootball game day minus 1430 relentless</td>\n",
              "    </tr>\n",
              "    <tr>\n",
              "      <th>2</th>\n",
              "      <td>game pissed game year blood boiling time turn ...</td>\n",
              "    </tr>\n",
              "    <tr>\n",
              "      <th>3</th>\n",
              "      <td>spamvicious ive found candice candace pout lik...</td>\n",
              "    </tr>\n",
              "    <tr>\n",
              "      <th>4</th>\n",
              "      <td>moocowward mrsajhargreaves melly77 garybarlow ...</td>\n",
              "    </tr>\n",
              "  </tbody>\n",
              "</table>\n",
              "</div>"
            ],
            "text/plain": [
              "                                             content\n",
              "0  point today someone says something remotely ki...\n",
              "1     corningfootball game day minus 1430 relentless\n",
              "2  game pissed game year blood boiling time turn ...\n",
              "3  spamvicious ive found candice candace pout lik...\n",
              "4  moocowward mrsajhargreaves melly77 garybarlow ..."
            ]
          },
          "execution_count": 37,
          "metadata": {},
          "output_type": "execute_result"
        }
      ],
      "source": [
        "data[[\"content\"]].head()"
      ]
    },
    {
      "attachments": {},
      "cell_type": "markdown",
      "metadata": {},
      "source": [
        "### correct spelling\n"
      ]
    },
    {
      "cell_type": "code",
      "execution_count": null,
      "metadata": {},
      "outputs": [],
      "source": [
        "# data[\"content\"] = data[\"content\"].apply(lambda x: str(TextBlob(x).correct()))"
      ]
    },
    {
      "cell_type": "code",
      "execution_count": 38,
      "metadata": {},
      "outputs": [
        {
          "data": {
            "text/html": [
              "<div>\n",
              "<style scoped>\n",
              "    .dataframe tbody tr th:only-of-type {\n",
              "        vertical-align: middle;\n",
              "    }\n",
              "\n",
              "    .dataframe tbody tr th {\n",
              "        vertical-align: top;\n",
              "    }\n",
              "\n",
              "    .dataframe thead th {\n",
              "        text-align: right;\n",
              "    }\n",
              "</style>\n",
              "<table border=\"1\" class=\"dataframe\">\n",
              "  <thead>\n",
              "    <tr style=\"text-align: right;\">\n",
              "      <th></th>\n",
              "      <th>content</th>\n",
              "    </tr>\n",
              "  </thead>\n",
              "  <tbody>\n",
              "    <tr>\n",
              "      <th>0</th>\n",
              "      <td>point today someone says something remotely ki...</td>\n",
              "    </tr>\n",
              "    <tr>\n",
              "      <th>1</th>\n",
              "      <td>corningfootball game day minus 1430 relentless</td>\n",
              "    </tr>\n",
              "    <tr>\n",
              "      <th>2</th>\n",
              "      <td>game pissed game year blood boiling time turn ...</td>\n",
              "    </tr>\n",
              "    <tr>\n",
              "      <th>3</th>\n",
              "      <td>spamvicious ive found candice candace pout lik...</td>\n",
              "    </tr>\n",
              "    <tr>\n",
              "      <th>4</th>\n",
              "      <td>moocowward mrsajhargreaves melly77 garybarlow ...</td>\n",
              "    </tr>\n",
              "  </tbody>\n",
              "</table>\n",
              "</div>"
            ],
            "text/plain": [
              "                                             content\n",
              "0  point today someone says something remotely ki...\n",
              "1     corningfootball game day minus 1430 relentless\n",
              "2  game pissed game year blood boiling time turn ...\n",
              "3  spamvicious ive found candice candace pout lik...\n",
              "4  moocowward mrsajhargreaves melly77 garybarlow ..."
            ]
          },
          "execution_count": 38,
          "metadata": {},
          "output_type": "execute_result"
        }
      ],
      "source": [
        "data[[\"content\"]].head()"
      ]
    },
    {
      "attachments": {},
      "cell_type": "markdown",
      "metadata": {},
      "source": [
        "### stemming\n"
      ]
    },
    {
      "cell_type": "code",
      "execution_count": 39,
      "metadata": {},
      "outputs": [],
      "source": [
        "st = PorterStemmer()\n",
        "data[\"content\"] = data[\"content\"].apply(lambda x: \" \".join([st.stem(word) for word in x.split()]))"
      ]
    },
    {
      "cell_type": "code",
      "execution_count": 40,
      "metadata": {},
      "outputs": [
        {
          "data": {
            "text/html": [
              "<div>\n",
              "<style scoped>\n",
              "    .dataframe tbody tr th:only-of-type {\n",
              "        vertical-align: middle;\n",
              "    }\n",
              "\n",
              "    .dataframe tbody tr th {\n",
              "        vertical-align: top;\n",
              "    }\n",
              "\n",
              "    .dataframe thead th {\n",
              "        text-align: right;\n",
              "    }\n",
              "</style>\n",
              "<table border=\"1\" class=\"dataframe\">\n",
              "  <thead>\n",
              "    <tr style=\"text-align: right;\">\n",
              "      <th></th>\n",
              "      <th>content</th>\n",
              "    </tr>\n",
              "  </thead>\n",
              "  <tbody>\n",
              "    <tr>\n",
              "      <th>0</th>\n",
              "      <td>point today someon say someth remot kind water...</td>\n",
              "    </tr>\n",
              "    <tr>\n",
              "      <th>1</th>\n",
              "      <td>corningfootbal game day minu 1430 relentless</td>\n",
              "    </tr>\n",
              "    <tr>\n",
              "      <th>2</th>\n",
              "      <td>game piss game year blood boil time turn stlcard</td>\n",
              "    </tr>\n",
              "    <tr>\n",
              "      <th>3</th>\n",
              "      <td>spamvici ive found candic candac pout like ðÿ</td>\n",
              "    </tr>\n",
              "    <tr>\n",
              "      <th>4</th>\n",
              "      <td>moocowward mrsajhargreav melly77 garybarlow ca...</td>\n",
              "    </tr>\n",
              "  </tbody>\n",
              "</table>\n",
              "</div>"
            ],
            "text/plain": [
              "                                             content\n",
              "0  point today someon say someth remot kind water...\n",
              "1       corningfootbal game day minu 1430 relentless\n",
              "2   game piss game year blood boil time turn stlcard\n",
              "3      spamvici ive found candic candac pout like ðÿ\n",
              "4  moocowward mrsajhargreav melly77 garybarlow ca..."
            ]
          },
          "execution_count": 40,
          "metadata": {},
          "output_type": "execute_result"
        }
      ],
      "source": [
        "data[[\"content\"]].head()"
      ]
    },
    {
      "attachments": {},
      "cell_type": "markdown",
      "metadata": {},
      "source": [
        "# label encoding"
      ]
    },
    {
      "attachments": {},
      "cell_type": "markdown",
      "metadata": {},
      "source": [
        "The target encoding is an approach to convert categorical value to numerical value. There are seven categories in this data, and we must encode them to proceed further. We are using the label encoder function to encode these categories."
      ]
    },
    {
      "cell_type": "code",
      "execution_count": 41,
      "metadata": {},
      "outputs": [
        {
          "data": {
            "text/plain": [
              "fear       2252\n",
              "anger      1701\n",
              "joy        1616\n",
              "sadness    1533\n",
              "Name: sentiment, dtype: int64"
            ]
          },
          "execution_count": 41,
          "metadata": {},
          "output_type": "execute_result"
        }
      ],
      "source": [
        "data[\"sentiment\"].value_counts()"
      ]
    },
    {
      "cell_type": "code",
      "execution_count": 42,
      "metadata": {},
      "outputs": [],
      "source": [
        "le = preprocessing.LabelEncoder()\n",
        "data[\"sentiment\"] = le.fit_transform(data[\"sentiment\"])"
      ]
    },
    {
      "cell_type": "code",
      "execution_count": 84,
      "metadata": {},
      "outputs": [
        {
          "data": {
            "text/plain": [
              "{0: 'anger', 1: 'fear', 2: 'joy', 3: 'sadness'}"
            ]
          },
          "execution_count": 84,
          "metadata": {},
          "output_type": "execute_result"
        }
      ],
      "source": [
        "mapper = {i:le.classes_[i] for i in range(len(le.classes_))}\n",
        "mapper"
      ]
    },
    {
      "cell_type": "code",
      "execution_count": 43,
      "metadata": {},
      "outputs": [
        {
          "data": {
            "text/plain": [
              "1    2252\n",
              "0    1701\n",
              "2    1616\n",
              "3    1533\n",
              "Name: sentiment, dtype: int64"
            ]
          },
          "execution_count": 43,
          "metadata": {},
          "output_type": "execute_result"
        }
      ],
      "source": [
        "data[\"sentiment\"].value_counts()"
      ]
    },
    {
      "attachments": {},
      "cell_type": "markdown",
      "metadata": {},
      "source": [
        "## train_test_split"
      ]
    },
    {
      "attachments": {},
      "cell_type": "markdown",
      "metadata": {},
      "source": [
        "The data is split into two parts: one part trains the model, which is the training set, and the other part evaluates the model, which is the test set. The train_test_split library from sklearn.model_selection is imported to split the data frame into two parts."
      ]
    },
    {
      "cell_type": "code",
      "execution_count": 44,
      "metadata": {},
      "outputs": [],
      "source": [
        "X_train, X_test, y_train, y_test = model_selection.train_test_split(data[\"content\"], data[\"sentiment\"], test_size=0.2, random_state=42, stratify=data[\"sentiment\"])"
      ]
    },
    {
      "attachments": {},
      "cell_type": "markdown",
      "metadata": {},
      "source": [
        "## feature engineering\n"
      ]
    },
    {
      "attachments": {},
      "cell_type": "markdown",
      "metadata": {},
      "source": [
        "Feature engineering is the process of creating a new feature considering the domain context. Let's implement the count vectorizer and TF-IDF techniques to obtain the relevant features from the data sets."
      ]
    },
    {
      "cell_type": "code",
      "execution_count": 45,
      "metadata": {},
      "outputs": [],
      "source": [
        "cv = CountVectorizer()\n",
        "cv.fit(data[\"content\"])\n",
        "\n",
        "cv_xtrain = cv.transform(X_train)\n",
        "cv_xtest = cv.transform(X_test)"
      ]
    },
    {
      "cell_type": "code",
      "execution_count": 46,
      "metadata": {},
      "outputs": [],
      "source": [
        "tv = TfidfVectorizer()\n",
        "tv.fit(data[\"content\"])\n",
        "\n",
        "tv_xtrain = tv.transform(X_train)\n",
        "tv_xtest = tv.transform(X_test)"
      ]
    },
    {
      "attachments": {},
      "cell_type": "markdown",
      "metadata": {},
      "source": [
        "## model building phase"
      ]
    },
    {
      "attachments": {},
      "cell_type": "markdown",
      "metadata": {},
      "source": [
        "In this phase, we are building a classifier model to predict the emotions of the tweets. We are using the following models to train the data set.\n",
        "- Logistic Regression\n",
        "- Naive Bayes\n",
        "- Random Forest\n",
        "- Support Vector Machine"
      ]
    },
    {
      "cell_type": "code",
      "execution_count": 47,
      "metadata": {},
      "outputs": [],
      "source": [
        "def build(model_initializer, independant_variables_train,target ,independant_variables_test, target_test) : \n",
        "    model = model_initializer\n",
        "    model.fit(independant_variables_train,target)\n",
        "    prediction = model.predict(independant_variables_test)\n",
        "    return metrics.accuracy_score(prediction, target_test)"
      ]
    },
    {
      "attachments": {},
      "cell_type": "markdown",
      "metadata": {},
      "source": [
        "### naive bayes\n",
        "\n",
        "The multinomial Naive Bayes classifier is suitable for classification with discrete features (e.g., word counts for text classification). The multinomial distribution normally requires integer feature counts. However, in practice, fractional counts such as tf-idf may also work."
      ]
    },
    {
      "cell_type": "code",
      "execution_count": 55,
      "metadata": {},
      "outputs": [
        {
          "name": "stdout",
          "output_type": "stream",
          "text": [
            "0.8451794510907812\n",
            "0.7698803659394793\n"
          ]
        }
      ],
      "source": [
        "# for CV\n",
        "output = build(naive_bayes.MultinomialNB(), cv_xtrain, y_train  , cv_xtest, y_test)\n",
        "naive_bayes_count_acc = output\n",
        "print(output)\n",
        "# for TF-IDF\n",
        "output = build(naive_bayes.MultinomialNB(), tv_xtrain, y_train, tv_xtest, y_test)\n",
        "naive_bayes_tfidf_acc = output\n",
        "print(output)"
      ]
    },
    {
      "attachments": {},
      "cell_type": "markdown",
      "metadata": {},
      "source": [
        "### Logistic Regression\n",
        "\n",
        "Logistic regression is a statistical model that in its basic form uses a logistic function to model a binary dependent variable, although many more complex extensions exist. In regression analysis, logistic regression is estimating the parameters of a logistic model (a form of binary regression)."
      ]
    },
    {
      "cell_type": "code",
      "execution_count": 56,
      "metadata": {},
      "outputs": [
        {
          "name": "stdout",
          "output_type": "stream",
          "text": [
            "0.88036593947924\n",
            "0.8698099929627023\n"
          ]
        }
      ],
      "source": [
        "# for CV\n",
        "output = build(linear_model.LogisticRegression(), cv_xtrain, y_train, cv_xtest, y_test)\n",
        "linear_classifier_count_acc= output\n",
        "print(output)\n",
        "# for TF-IDF\n",
        "output = build(linear_model.LogisticRegression(), tv_xtrain, y_train, tv_xtest , y_test)\n",
        "linear_classifier_tfidf_acc = output\n",
        "print(output)"
      ]
    },
    {
      "attachments": {},
      "cell_type": "markdown",
      "metadata": {},
      "source": [
        "### SVM\n",
        "\n",
        "SVM or (Suuport Vector Machine) is a supervised machine learning algorithm which can be used for both classification or regression challenges. However,  it is mostly used in classification problems. In this algorithm, we plot each data item as a point in n-dimensional space (where n is number of features you have) with the value of each feature being the value of a particular coordinate. Then, we perform classification by finding the hyper-plane that differentiate the two classes very well\n"
      ]
    },
    {
      "cell_type": "code",
      "execution_count": 57,
      "metadata": {},
      "outputs": [
        {
          "name": "stdout",
          "output_type": "stream",
          "text": [
            "0.872624912033779\n",
            "0.8831808585503167\n"
          ]
        }
      ],
      "source": [
        "#for cv\n",
        "output = build(svm.SVC(), cv_xtrain, y_train, cv_xtest, y_test)\n",
        "svm_count_acc = output\n",
        "print(output)\n",
        "\n",
        "#for TF-IDF \n",
        "output = build(svm.SVC(), tv_xtrain, y_train, tv_xtest, y_test)\n",
        "svm_tfidf_acc = output\n",
        "print(output)"
      ]
    },
    {
      "attachments": {},
      "cell_type": "markdown",
      "metadata": {},
      "source": [
        "### Random Forest\n",
        "\n",
        "The random forest is a classification algorithm consisting of many decisions trees. It uses bagging and feature randomness when building each individual tree to try to create an uncorrelated forest of trees whose prediction by committee is more accurate than that of any individual tree."
      ]
    },
    {
      "cell_type": "code",
      "execution_count": 58,
      "metadata": {},
      "outputs": [
        {
          "name": "stdout",
          "output_type": "stream",
          "text": [
            "0.8775510204081632\n",
            "0.8676988036593948\n"
          ]
        }
      ],
      "source": [
        "#for CV\n",
        "output = build(ensemble.RandomForestClassifier(), cv_xtrain, y_train, cv_xtest, y_test)\n",
        "print(output)\n",
        "random_forest_count_acc = output\n",
        "#for TF-IDF \n",
        "output = build(ensemble.RandomForestClassifier(), tv_xtrain, y_train, tv_xtest, y_test)\n",
        "random_forest_tfidf_acc = output\n",
        "print(output)"
      ]
    },
    {
      "attachments": {},
      "cell_type": "markdown",
      "metadata": {},
      "source": [
        "## Model evaluation and comparison"
      ]
    },
    {
      "cell_type": "code",
      "execution_count": 61,
      "metadata": {},
      "outputs": [
        {
          "data": {
            "text/html": [
              "<div>\n",
              "<style scoped>\n",
              "    .dataframe tbody tr th:only-of-type {\n",
              "        vertical-align: middle;\n",
              "    }\n",
              "\n",
              "    .dataframe tbody tr th {\n",
              "        vertical-align: top;\n",
              "    }\n",
              "\n",
              "    .dataframe thead th {\n",
              "        text-align: right;\n",
              "    }\n",
              "</style>\n",
              "<table border=\"1\" class=\"dataframe\">\n",
              "  <thead>\n",
              "    <tr style=\"text-align: right;\">\n",
              "      <th></th>\n",
              "      <th>algorithm</th>\n",
              "      <th>feature_engineering</th>\n",
              "      <th>accuracy</th>\n",
              "    </tr>\n",
              "  </thead>\n",
              "  <tbody>\n",
              "    <tr>\n",
              "      <th>0</th>\n",
              "      <td>Naive Bayes</td>\n",
              "      <td>Count Vector</td>\n",
              "      <td>0.845179</td>\n",
              "    </tr>\n",
              "    <tr>\n",
              "      <th>1</th>\n",
              "      <td>Naive Bayes</td>\n",
              "      <td>TF-IDF Vector</td>\n",
              "      <td>0.769880</td>\n",
              "    </tr>\n",
              "    <tr>\n",
              "      <th>2</th>\n",
              "      <td>Linear Classifier</td>\n",
              "      <td>Count Vector</td>\n",
              "      <td>0.880366</td>\n",
              "    </tr>\n",
              "    <tr>\n",
              "      <th>3</th>\n",
              "      <td>Linear Classifier</td>\n",
              "      <td>TF-IDF Vector</td>\n",
              "      <td>0.869810</td>\n",
              "    </tr>\n",
              "    <tr>\n",
              "      <th>4</th>\n",
              "      <td>SVM</td>\n",
              "      <td>Count Vector</td>\n",
              "      <td>0.872625</td>\n",
              "    </tr>\n",
              "    <tr>\n",
              "      <th>5</th>\n",
              "      <td>SVM</td>\n",
              "      <td>TF-IDF Vector</td>\n",
              "      <td>0.883181</td>\n",
              "    </tr>\n",
              "    <tr>\n",
              "      <th>6</th>\n",
              "      <td>Random Forest</td>\n",
              "      <td>Count Vector</td>\n",
              "      <td>0.877551</td>\n",
              "    </tr>\n",
              "    <tr>\n",
              "      <th>7</th>\n",
              "      <td>Random Forest</td>\n",
              "      <td>TF-IDF Vector</td>\n",
              "      <td>0.867699</td>\n",
              "    </tr>\n",
              "  </tbody>\n",
              "</table>\n",
              "</div>"
            ],
            "text/plain": [
              "           algorithm feature_engineering  accuracy\n",
              "0        Naive Bayes        Count Vector  0.845179\n",
              "1        Naive Bayes       TF-IDF Vector  0.769880\n",
              "2  Linear Classifier        Count Vector  0.880366\n",
              "3  Linear Classifier       TF-IDF Vector  0.869810\n",
              "4                SVM        Count Vector  0.872625\n",
              "5                SVM       TF-IDF Vector  0.883181\n",
              "6      Random Forest        Count Vector  0.877551\n",
              "7      Random Forest       TF-IDF Vector  0.867699"
            ]
          },
          "execution_count": 61,
          "metadata": {},
          "output_type": "execute_result"
        }
      ],
      "source": [
        "dictionary = {\n",
        "    'algorithm': ['Naive Bayes', 'Naive Bayes', 'Linear Classifier', 'Linear Classifier', 'SVM', 'SVM', 'Random Forest', 'Random Forest'],\n",
        "    'feature_engineering': ['Count Vector', 'TF-IDF Vector', 'Count Vector', 'TF-IDF Vector', 'Count Vector', 'TF-IDF Vector', 'Count Vector', 'TF-IDF Vector'],\n",
        "    'accuracy': [naive_bayes_count_acc, naive_bayes_tfidf_acc, linear_classifier_count_acc, linear_classifier_tfidf_acc, svm_count_acc, svm_tfidf_acc, random_forest_count_acc, random_forest_tfidf_acc]\n",
        "}\n",
        "\n",
        "# Create a DataFrame\n",
        "df = pd.DataFrame(dictionary)\n",
        "\n",
        "# Display the DataFrame\n",
        "df"
      ]
    },
    {
      "attachments": {},
      "cell_type": "markdown",
      "metadata": {},
      "source": [
        "## building SVM Model using TF-IDF as features\n",
        "(SVM the accuracy is better compared to other models)\n"
      ]
    },
    {
      "cell_type": "code",
      "execution_count": 62,
      "metadata": {},
      "outputs": [
        {
          "name": "stdout",
          "output_type": "stream",
          "text": [
            "              precision    recall  f1-score   support\n",
            "\n",
            "           0       0.92      0.87      0.89       340\n",
            "           1       0.83      0.96      0.89       451\n",
            "           2       0.97      0.90      0.93       323\n",
            "           3       0.86      0.77      0.81       307\n",
            "\n",
            "    accuracy                           0.88      1421\n",
            "   macro avg       0.89      0.87      0.88      1421\n",
            "weighted avg       0.89      0.88      0.88      1421\n",
            "\n"
          ]
        }
      ],
      "source": [
        "classifier = svm.SVC().fit(tv_xtrain, y_train)\n",
        "val_predictions = classifier.predict(tv_xtest)\n",
        "\n",
        "# Precision , Recall , F1 - score , Support\n",
        "y_true, y_pred = y_test, val_predictions\n",
        "print(classification_report(y_true, y_pred))"
      ]
    },
    {
      "cell_type": "code",
      "execution_count": 63,
      "metadata": {},
      "outputs": [
        {
          "data": {
            "image/png": "[encoded data removed]",
            "text/plain": [
              "<Figure size 1000x1000 with 2 Axes>"
            ]
          },
          "metadata": {},
          "output_type": "display_data"
        }
      ],
      "source": [
        "conf_mat = confusion_matrix(y_true, y_pred)\n",
        "fig, ax = plt.subplots(figsize=(10,10))\n",
        "sns.heatmap(conf_mat, annot=True, fmt='d',\n",
        "            xticklabels=le.classes_, yticklabels=le.classes_)\n",
        "plt.ylabel('Actual')\n",
        "plt.xlabel('Predicted')\n",
        "plt.show()"
      ]
    },
    {
      "attachments": {},
      "cell_type": "markdown",
      "metadata": {},
      "source": [
        "## Exporting the model and the TF-IDF vectorizer\n",
        "\n",
        "exporting the model and the vectorizer to use them in the real-time data extraction phase, so we don't have to train the model every time we want to predict the emotions of the tweets."
      ]
    },
    {
      "cell_type": "code",
      "execution_count": 117,
      "metadata": {},
      "outputs": [
        {
          "data": {
            "text/plain": [
              "['svm_model.joblib']"
            ]
          },
          "execution_count": 117,
          "metadata": {},
          "output_type": "execute_result"
        }
      ],
      "source": [
        "# from joblib import dump\n",
        "# # Save the model to a file\n",
        "# dump(classifier, 'svm_model.joblib')"
      ]
    },
    {
      "cell_type": "code",
      "execution_count": 118,
      "metadata": {},
      "outputs": [],
      "source": [
        "import pickle\n",
        "# Save the model to a file\n",
        "with open('svm_model.pkl', 'wb') as f:\n",
        "    pickle.dump(classifier, f)"
      ]
    },
    {
      "cell_type": "code",
      "execution_count": 119,
      "metadata": {},
      "outputs": [],
      "source": [
        "# Save the TF-IDF vectorizer to a file\n",
        "pickle.dump(tv, open(\"tfidf.pkl\", \"wb\"))"
      ]
    },
    {
      "attachments": {},
      "cell_type": "markdown",
      "metadata": {},
      "source": [
        "## Extracting the twitter data for the emotion predictions and sentiment"
      ]
    },
    {
      "cell_type": "code",
      "execution_count": 64,
      "metadata": {},
      "outputs": [
        {
          "name": "stderr",
          "output_type": "stream",
          "text": [
            "c:\\Users\\USER\\AppData\\Local\\Programs\\Python\\Python310\\lib\\site-packages\\requests\\__init__.py:102: RequestsDependencyWarning: urllib3 (1.26.14) or chardet (5.1.0)/charset_normalizer (2.0.12) doesn't match a supported version!\n",
            "  warnings.warn(\"urllib3 ({}) or chardet ({})/charset_normalizer ({}) doesn't match a supported \"\n"
          ]
        }
      ],
      "source": [
        "from twitter_search import *"
      ]
    },
    {
      "cell_type": "code",
      "execution_count": 76,
      "metadata": {},
      "outputs": [],
      "source": [
        "''' search variables: '''\n",
        "search_phrases = ['samsung']\n",
        "\n",
        "time_limit = 0.1                           # runtime limit in hours\n",
        "max_tweets = 100                           # number of tweets per search (will be\n",
        "                                           # iterated over) - maximum is 100\n",
        "min_days_old, max_days_old = 1, 2          # search limits e.g., from 7 to 8\n",
        "                                           # gives current weekday from last week,\n",
        "                                           # min_days_old=0 will search from right now\n",
        "USA = '39.8,-95.583068847656,2500km'       # this geocode includes nearly all American\n",
        "                                           # states (and a large portion of Canada)"
      ]
    },
    {
      "cell_type": "code",
      "execution_count": 77,
      "metadata": {},
      "outputs": [
        {
          "name": "stdout",
          "output_type": "stream",
          "text": [
            "Search phrase = samsung\n",
            "search limit (start/stop): 2023-05-27 23:59:59+00:00\n",
            "search limit (start/stop): 2023-05-26 23:59:59+00:00\n",
            "max id (starting point) = 1662609628952162304\n",
            "since id (ending point) = 1662247241116012544\n",
            "count = 1\n",
            "found 100 tweets\n",
            "count = 2\n",
            "found 100 tweets\n",
            "count = 3\n",
            "found 100 tweets\n",
            "count = 4\n",
            "found 100 tweets\n",
            "count = 5\n",
            "found 100 tweets\n",
            "count = 6\n",
            "found 100 tweets\n",
            "count = 7\n",
            "found 100 tweets\n",
            "count = 8\n",
            "found 72 tweets\n",
            "found 0 tweets\n",
            "no tweets found\n",
            "count = 9\n",
            "found 0 tweets\n",
            "no tweets found\n",
            "count = 10\n",
            "found 0 tweets\n",
            "no tweets found\n",
            "count = 11\n",
            "found 0 tweets\n",
            "no tweets found\n"
          ]
        },
        {
          "ename": "SystemExit",
          "evalue": "Maximum number of empty tweet strings reached - exiting",
          "output_type": "error",
          "traceback": [
            "An exception has occurred, use %tb to see the full traceback.\n",
            "\u001b[1;31mSystemExit\u001b[0m\u001b[1;31m:\u001b[0m Maximum number of empty tweet strings reached - exiting\n"
          ]
        },
        {
          "name": "stderr",
          "output_type": "stream",
          "text": [
            "C:\\Users\\USER\\AppData\\Roaming\\Python\\Python310\\site-packages\\IPython\\core\\interactiveshell.py:3450: UserWarning: To exit: use 'exit', 'quit', or Ctrl-D.\n",
            "  warn(\"To exit: use 'exit', 'quit', or Ctrl-D.\", stacklevel=1)\n"
          ]
        }
      ],
      "source": [
        "# loop over search items,\n",
        "# creating a new file for each\n",
        "for search_phrase in search_phrases:\n",
        "\n",
        "    print('Search phrase =', search_phrase)\n",
        "\n",
        "    ''' other variables '''\n",
        "    name = search_phrase.split()[0]\n",
        "    json_file_root = name + '/'  + name\n",
        "    os.makedirs(os.path.dirname(json_file_root), exist_ok=True)\n",
        "    read_IDs = False\n",
        "        \n",
        "    # open a file in which to store the tweets\n",
        "    if max_days_old - min_days_old == 1:\n",
        "        d = dt.datetime.now() - dt.timedelta(days=min_days_old)\n",
        "        day = '{0}-{1:0>2}-{2:0>2}'.format(d.year, d.month, d.day)\n",
        "    else:\n",
        "        d1 = dt.datetime.now() - dt.timedelta(days=max_days_old-1)\n",
        "        d2 = dt.datetime.now() - dt.timedelta(days=min_days_old)\n",
        "        day = '{0}-{1:0>2}-{2:0>2}_to_{3}-{4:0>2}-{5:0>2}'.format(\n",
        "              d1.year, d1.month, d1.day, d2.year, d2.month, d2.day)\n",
        "    json_file = json_file_root + '_' + day + '.json'\n",
        "    if os.path.isfile(json_file):\n",
        "        print('Appending tweets to file named: ',json_file)\n",
        "        read_IDs = True\n",
        "        \n",
        "    # authorize and load the twitter API\n",
        "    api = load_api()\n",
        "        \n",
        "    # set the 'starting point' ID for tweet collection\n",
        "    if read_IDs:\n",
        "        # open the json file and get the latest tweet ID\n",
        "        with open(json_file, 'r') as f:\n",
        "            lines = f.readlines()\n",
        "            max_id = json.loads(lines[-1])['id']\n",
        "            print('Searching from the bottom ID in file')\n",
        "    else:\n",
        "        # get the ID of a tweet that is min_days_old\n",
        "        if min_days_old == 0:\n",
        "            max_id = -1\n",
        "        else:\n",
        "            max_id = get_tweet_id(api, days_ago=(min_days_old-1))\n",
        "    # set the smallest ID to search for\n",
        "    since_id = get_tweet_id(api, days_ago=(max_days_old-1))\n",
        "    print('max id (starting point) =', max_id)\n",
        "    print('since id (ending point) =', since_id)\n",
        "        \n",
        "\n",
        "\n",
        "    ''' tweet gathering loop  '''\n",
        "    start = dt.datetime.now()\n",
        "    end = start + dt.timedelta(hours=time_limit)\n",
        "    count, exitcount = 0, 0\n",
        "    while dt.datetime.now() < end:\n",
        "        count += 1\n",
        "        print('count =',count)\n",
        "        # collect tweets and update max_id\n",
        "        tweets, max_id = tweet_search(api, search_phrase, max_tweets,\n",
        "                                      max_id=max_id, since_id=since_id,\n",
        "                                      geocode=USA)\n",
        "        # write tweets to file in JSON format\n",
        "        if tweets:\n",
        "            write_tweets(tweets, json_file)\n",
        "            exitcount = 0\n",
        "        else:\n",
        "            exitcount += 1\n",
        "            if exitcount == 3:\n",
        "                if search_phrase == search_phrases[-1]:\n",
        "                    sys.exit('Maximum number of empty tweet strings reached - exiting')\n",
        "                else:\n",
        "                    print('Maximum number of empty tweet strings reached - breaking')\n",
        "                    break"
      ]
    },
    {
      "cell_type": "code",
      "execution_count": 78,
      "metadata": {},
      "outputs": [
        {
          "name": "stdout",
          "output_type": "stream",
          "text": [
            "samsung/samsung_2023-05-27.json\n"
          ]
        }
      ],
      "source": [
        "for folder in search_phrases:\n",
        "    files = os.listdir(folder)\n",
        "    for file in files:\n",
        "        file_name=folder+'/'+file\n",
        "        print(file_name)"
      ]
    },
    {
      "cell_type": "code",
      "execution_count": 79,
      "metadata": {},
      "outputs": [
        {
          "name": "stderr",
          "output_type": "stream",
          "text": [
            "C:\\Users\\USER\\AppData\\Local\\Temp\\ipykernel_17676\\3166382043.py:15: FutureWarning: The default value of regex will change from True to False in a future version.\n",
            "  twt['text']=twt['text'].str.replace('[^\\w\\s]','')\n"
          ]
        },
        {
          "data": {
            "text/plain": [
              "(772, 3)"
            ]
          },
          "execution_count": 79,
          "metadata": {},
          "output_type": "execute_result"
        }
      ],
      "source": [
        "twt = pd.DataFrame(columns=['date', 'text'])\n",
        "for folder in search_phrases:\n",
        "    files = os.listdir(folder)\n",
        "    for file in files:\n",
        "        file_name=folder+'/'+file\n",
        "        twt1=pd.read_json(file_name, lines=True)\n",
        "        twt1=twt1[['created_at','text']]\n",
        "        twt=pd.concat([twt,twt1],ignore_index=True)\n",
        "\n",
        "\n",
        "twt['text']=twt['text'].str.lstrip('0123456789')\n",
        "#lower casing \n",
        "twt['text']=twt['text'].apply(lambda a: \" \".join(a.lower() for a in a.split()))\n",
        "#remove punctuation\n",
        "twt['text']=twt['text'].str.replace('[^\\w\\s]','')\n",
        "#remove stopwords\n",
        "stop = stopwords.words('english')\n",
        "twt['text']=twt['text'].apply(lambda a: \" \".join(a for a in a.split() if a not in stop))\n",
        "#spelling correction\n",
        "# twt['text']=twt['text'].apply(lambda a: str(TextBlob(a).correct()))\n",
        "\n",
        "twt.tail()\n",
        "twt.shape"
      ]
    },
    {
      "cell_type": "code",
      "execution_count": 95,
      "metadata": {},
      "outputs": [
        {
          "data": {
            "text/plain": [
              "1    571\n",
              "0    124\n",
              "2     40\n",
              "3     37\n",
              "Name: emotion, dtype: int64"
            ]
          },
          "execution_count": 95,
          "metadata": {},
          "output_type": "execute_result"
        }
      ],
      "source": [
        "Xpredict=twt['text']\n",
        "#tf-idf\n",
        "predict_tfidf = tv.transform(Xpredict)\n",
        "#getting predictions\n",
        "twt['emotion']=classifier.predict(predict_tfidf)\n",
        "twt.emotion.value_counts()"
      ]
    },
    {
      "attachments": {},
      "cell_type": "markdown",
      "metadata": {},
      "source": [
        "## Predicting the sentiment of the tweets"
      ]
    },
    {
      "cell_type": "code",
      "execution_count": 96,
      "metadata": {},
      "outputs": [
        {
          "data": {
            "text/html": [
              "<div>\n",
              "<style scoped>\n",
              "    .dataframe tbody tr th:only-of-type {\n",
              "        vertical-align: middle;\n",
              "    }\n",
              "\n",
              "    .dataframe tbody tr th {\n",
              "        vertical-align: top;\n",
              "    }\n",
              "\n",
              "    .dataframe thead th {\n",
              "        text-align: right;\n",
              "    }\n",
              "</style>\n",
              "<table border=\"1\" class=\"dataframe\">\n",
              "  <thead>\n",
              "    <tr style=\"text-align: right;\">\n",
              "      <th></th>\n",
              "      <th>date</th>\n",
              "      <th>text</th>\n",
              "      <th>created_at</th>\n",
              "      <th>emotion</th>\n",
              "      <th>sentiment</th>\n",
              "      <th>sentiment_label</th>\n",
              "    </tr>\n",
              "  </thead>\n",
              "  <tbody>\n",
              "    <tr>\n",
              "      <th>767</th>\n",
              "      <td>NaN</td>\n",
              "      <td>the1onlyrichie magats also cant buy jeep chevy...</td>\n",
              "      <td>2023-05-27 00:02:28+00:00</td>\n",
              "      <td>3</td>\n",
              "      <td>0.000000</td>\n",
              "      <td>neutral</td>\n",
              "    </tr>\n",
              "    <tr>\n",
              "      <th>768</th>\n",
              "      <td>NaN</td>\n",
              "      <td>tryn tighten animemanga skills sakura street f...</td>\n",
              "      <td>2023-05-27 00:01:14+00:00</td>\n",
              "      <td>1</td>\n",
              "      <td>0.000000</td>\n",
              "      <td>neutral</td>\n",
              "    </tr>\n",
              "    <tr>\n",
              "      <th>769</th>\n",
              "      <td>NaN</td>\n",
              "      <td>bragging beat hardest enemies jedi survivor je...</td>\n",
              "      <td>2023-05-27 00:00:58+00:00</td>\n",
              "      <td>1</td>\n",
              "      <td>0.000000</td>\n",
              "      <td>neutral</td>\n",
              "    </tr>\n",
              "    <tr>\n",
              "      <th>770</th>\n",
              "      <td>NaN</td>\n",
              "      <td>android circuit googles missing pixel amazon l...</td>\n",
              "      <td>2023-05-27 00:00:36+00:00</td>\n",
              "      <td>1</td>\n",
              "      <td>0.150000</td>\n",
              "      <td>positive</td>\n",
              "    </tr>\n",
              "    <tr>\n",
              "      <th>771</th>\n",
              "      <td>NaN</td>\n",
              "      <td>techage old question go apple samsung purchasi...</td>\n",
              "      <td>2023-05-27 00:00:01+00:00</td>\n",
              "      <td>1</td>\n",
              "      <td>0.118182</td>\n",
              "      <td>positive</td>\n",
              "    </tr>\n",
              "  </tbody>\n",
              "</table>\n",
              "</div>"
            ],
            "text/plain": [
              "    date                                               text  \\\n",
              "767  NaN  the1onlyrichie magats also cant buy jeep chevy...   \n",
              "768  NaN  tryn tighten animemanga skills sakura street f...   \n",
              "769  NaN  bragging beat hardest enemies jedi survivor je...   \n",
              "770  NaN  android circuit googles missing pixel amazon l...   \n",
              "771  NaN  techage old question go apple samsung purchasi...   \n",
              "\n",
              "                   created_at  emotion  sentiment sentiment_label  \n",
              "767 2023-05-27 00:02:28+00:00        3   0.000000         neutral  \n",
              "768 2023-05-27 00:01:14+00:00        1   0.000000         neutral  \n",
              "769 2023-05-27 00:00:58+00:00        1   0.000000         neutral  \n",
              "770 2023-05-27 00:00:36+00:00        1   0.150000        positive  \n",
              "771 2023-05-27 00:00:01+00:00        1   0.118182        positive  "
            ]
          },
          "execution_count": 96,
          "metadata": {},
          "output_type": "execute_result"
        }
      ],
      "source": [
        "twt['sentiment']=twt['text'].apply(lambda x: TextBlob(x).sentiment[0] )\n",
        "def function (value):\n",
        "    if value['sentiment']>0:\n",
        "        return 'positive'\n",
        "    elif value['sentiment']<0:\n",
        "        return 'negative'\n",
        "    else:\n",
        "        return 'neutral'\n",
        "twt['sentiment_label']=twt.apply(lambda x: function(x),axis=1)\n",
        "twt.tail()"
      ]
    },
    {
      "cell_type": "code",
      "execution_count": 106,
      "metadata": {},
      "outputs": [
        {
          "data": {
            "text/html": [
              "        <script type=\"text/javascript\">\n",
              "        window.PlotlyConfig = {MathJaxConfig: 'local'};\n",
              "        if (window.MathJax && window.MathJax.Hub && window.MathJax.Hub.Config) {window.MathJax.Hub.Config({SVG: {font: \"STIX-Web\"}});}\n",
              "        if (typeof require !== 'undefined') {\n",
              "        require.undef(\"plotly\");\n",
              "        requirejs.config({\n",
              "            paths: {\n",
              "                'plotly': ['https://cdn.plot.ly/plotly-2.17.1.min']\n",
              "            }\n",
              "        });\n",
              "        require(['plotly'], function(Plotly) {\n",
              "            window._Plotly = Plotly;\n",
              "        });\n",
              "        }\n",
              "        </script>\n",
              "        "
            ]
          },
          "metadata": {},
          "output_type": "display_data"
        },
        {
          "data": {
            "text/html": [
              "        <script type=\"text/javascript\">\n",
              "        window.PlotlyConfig = {MathJaxConfig: 'local'};\n",
              "        if (window.MathJax && window.MathJax.Hub && window.MathJax.Hub.Config) {window.MathJax.Hub.Config({SVG: {font: \"STIX-Web\"}});}\n",
              "        if (typeof require !== 'undefined') {\n",
              "        require.undef(\"plotly\");\n",
              "        requirejs.config({\n",
              "            paths: {\n",
              "                'plotly': ['https://cdn.plot.ly/plotly-2.17.1.min']\n",
              "            }\n",
              "        });\n",
              "        require(['plotly'], function(Plotly) {\n",
              "            window._Plotly = Plotly;\n",
              "        });\n",
              "        }\n",
              "        </script>\n",
              "        "
            ]
          },
          "metadata": {},
          "output_type": "display_data"
        },
        {
          "data": {
            "application/vnd.plotly.v1+json": {
              "config": {
                "plotlyServerURL": "https://plot.ly"
              },
              "data": [
                {
                  "hoverinfo": "label+percent",
                  "labels": [
                    "neutral",
                    "positive",
                    "negative"
                  ],
                  "marker": {
                    "colors": [
                      "#FEBFB3",
                      "#E1396C",
                      "#96D38C"
                    ],
                    "line": {
                      "color": "#000000",
                      "width": 2
                    }
                  },
                  "textfont": {
                    "size": 20
                  },
                  "textinfo": "value",
                  "type": "pie",
                  "values": [
                    445,
                    245,
                    82
                  ]
                }
              ],
              "layout": {
                "template": {
                  "data": {
                    "bar": [
                      {
                        "error_x": {
                          "color": "#2a3f5f"
                        },
                        "error_y": {
                          "color": "#2a3f5f"
                        },
                        "marker": {
                          "line": {
                            "color": "#E5ECF6",
                            "width": 0.5
                          },
                          "pattern": {
                            "fillmode": "overlay",
                            "size": 10,
                            "solidity": 0.2
                          }
                        },
                        "type": "bar"
                      }
                    ],
                    "barpolar": [
                      {
                        "marker": {
                          "line": {
                            "color": "#E5ECF6",
                            "width": 0.5
                          },
                          "pattern": {
                            "fillmode": "overlay",
                            "size": 10,
                            "solidity": 0.2
                          }
                        },
                        "type": "barpolar"
                      }
                    ],
                    "carpet": [
                      {
                        "aaxis": {
                          "endlinecolor": "#2a3f5f",
                          "gridcolor": "white",
                          "linecolor": "white",
                          "minorgridcolor": "white",
                          "startlinecolor": "#2a3f5f"
                        },
                        "baxis": {
                          "endlinecolor": "#2a3f5f",
                          "gridcolor": "white",
                          "linecolor": "white",
                          "minorgridcolor": "white",
                          "startlinecolor": "#2a3f5f"
                        },
                        "type": "carpet"
                      }
                    ],
                    "choropleth": [
                      {
                        "colorbar": {
                          "outlinewidth": 0,
                          "ticks": ""
                        },
                        "type": "choropleth"
                      }
                    ],
                    "contour": [
                      {
                        "colorbar": {
                          "outlinewidth": 0,
                          "ticks": ""
                        },
                        "colorscale": [
                          [
                            0,
                            "#0d0887"
                          ],
                          [
                            0.1111111111111111,
                            "#46039f"
                          ],
                          [
                            0.2222222222222222,
                            "#7201a8"
                          ],
                          [
                            0.3333333333333333,
                            "#9c179e"
                          ],
                          [
                            0.4444444444444444,
                            "#bd3786"
                          ],
                          [
                            0.5555555555555556,
                            "#d8576b"
                          ],
                          [
                            0.6666666666666666,
                            "#ed7953"
                          ],
                          [
                            0.7777777777777778,
                            "#fb9f3a"
                          ],
                          [
                            0.8888888888888888,
                            "#fdca26"
                          ],
                          [
                            1,
                            "#f0f921"
                          ]
                        ],
                        "type": "contour"
                      }
                    ],
                    "contourcarpet": [
                      {
                        "colorbar": {
                          "outlinewidth": 0,
                          "ticks": ""
                        },
                        "type": "contourcarpet"
                      }
                    ],
                    "heatmap": [
                      {
                        "colorbar": {
                          "outlinewidth": 0,
                          "ticks": ""
                        },
                        "colorscale": [
                          [
                            0,
                            "#0d0887"
                          ],
                          [
                            0.1111111111111111,
                            "#46039f"
                          ],
                          [
                            0.2222222222222222,
                            "#7201a8"
                          ],
                          [
                            0.3333333333333333,
                            "#9c179e"
                          ],
                          [
                            0.4444444444444444,
                            "#bd3786"
                          ],
                          [
                            0.5555555555555556,
                            "#d8576b"
                          ],
                          [
                            0.6666666666666666,
                            "#ed7953"
                          ],
                          [
                            0.7777777777777778,
                            "#fb9f3a"
                          ],
                          [
                            0.8888888888888888,
                            "#fdca26"
                          ],
                          [
                            1,
                            "#f0f921"
                          ]
                        ],
                        "type": "heatmap"
                      }
                    ],
                    "heatmapgl": [
                      {
                        "colorbar": {
                          "outlinewidth": 0,
                          "ticks": ""
                        },
                        "colorscale": [
                          [
                            0,
                            "#0d0887"
                          ],
                          [
                            0.1111111111111111,
                            "#46039f"
                          ],
                          [
                            0.2222222222222222,
                            "#7201a8"
                          ],
                          [
                            0.3333333333333333,
                            "#9c179e"
                          ],
                          [
                            0.4444444444444444,
                            "#bd3786"
                          ],
                          [
                            0.5555555555555556,
                            "#d8576b"
                          ],
                          [
                            0.6666666666666666,
                            "#ed7953"
                          ],
                          [
                            0.7777777777777778,
                            "#fb9f3a"
                          ],
                          [
                            0.8888888888888888,
                            "#fdca26"
                          ],
                          [
                            1,
                            "#f0f921"
                          ]
                        ],
                        "type": "heatmapgl"
                      }
                    ],
                    "histogram": [
                      {
                        "marker": {
                          "pattern": {
                            "fillmode": "overlay",
                            "size": 10,
                            "solidity": 0.2
                          }
                        },
                        "type": "histogram"
                      }
                    ],
                    "histogram2d": [
                      {
                        "colorbar": {
                          "outlinewidth": 0,
                          "ticks": ""
                        },
                        "colorscale": [
                          [
                            0,
                            "#0d0887"
                          ],
                          [
                            0.1111111111111111,
                            "#46039f"
                          ],
                          [
                            0.2222222222222222,
                            "#7201a8"
                          ],
                          [
                            0.3333333333333333,
                            "#9c179e"
                          ],
                          [
                            0.4444444444444444,
                            "#bd3786"
                          ],
                          [
                            0.5555555555555556,
                            "#d8576b"
                          ],
                          [
                            0.6666666666666666,
                            "#ed7953"
                          ],
                          [
                            0.7777777777777778,
                            "#fb9f3a"
                          ],
                          [
                            0.8888888888888888,
                            "#fdca26"
                          ],
                          [
                            1,
                            "#f0f921"
                          ]
                        ],
                        "type": "histogram2d"
                      }
                    ],
                    "histogram2dcontour": [
                      {
                        "colorbar": {
                          "outlinewidth": 0,
                          "ticks": ""
                        },
                        "colorscale": [
                          [
                            0,
                            "#0d0887"
                          ],
                          [
                            0.1111111111111111,
                            "#46039f"
                          ],
                          [
                            0.2222222222222222,
                            "#7201a8"
                          ],
                          [
                            0.3333333333333333,
                            "#9c179e"
                          ],
                          [
                            0.4444444444444444,
                            "#bd3786"
                          ],
                          [
                            0.5555555555555556,
                            "#d8576b"
                          ],
                          [
                            0.6666666666666666,
                            "#ed7953"
                          ],
                          [
                            0.7777777777777778,
                            "#fb9f3a"
                          ],
                          [
                            0.8888888888888888,
                            "#fdca26"
                          ],
                          [
                            1,
                            "#f0f921"
                          ]
                        ],
                        "type": "histogram2dcontour"
                      }
                    ],
                    "mesh3d": [
                      {
                        "colorbar": {
                          "outlinewidth": 0,
                          "ticks": ""
                        },
                        "type": "mesh3d"
                      }
                    ],
                    "parcoords": [
                      {
                        "line": {
                          "colorbar": {
                            "outlinewidth": 0,
                            "ticks": ""
                          }
                        },
                        "type": "parcoords"
                      }
                    ],
                    "pie": [
                      {
                        "automargin": true,
                        "type": "pie"
                      }
                    ],
                    "scatter": [
                      {
                        "fillpattern": {
                          "fillmode": "overlay",
                          "size": 10,
                          "solidity": 0.2
                        },
                        "type": "scatter"
                      }
                    ],
                    "scatter3d": [
                      {
                        "line": {
                          "colorbar": {
                            "outlinewidth": 0,
                            "ticks": ""
                          }
                        },
                        "marker": {
                          "colorbar": {
                            "outlinewidth": 0,
                            "ticks": ""
                          }
                        },
                        "type": "scatter3d"
                      }
                    ],
                    "scattercarpet": [
                      {
                        "marker": {
                          "colorbar": {
                            "outlinewidth": 0,
                            "ticks": ""
                          }
                        },
                        "type": "scattercarpet"
                      }
                    ],
                    "scattergeo": [
                      {
                        "marker": {
                          "colorbar": {
                            "outlinewidth": 0,
                            "ticks": ""
                          }
                        },
                        "type": "scattergeo"
                      }
                    ],
                    "scattergl": [
                      {
                        "marker": {
                          "colorbar": {
                            "outlinewidth": 0,
                            "ticks": ""
                          }
                        },
                        "type": "scattergl"
                      }
                    ],
                    "scattermapbox": [
                      {
                        "marker": {
                          "colorbar": {
                            "outlinewidth": 0,
                            "ticks": ""
                          }
                        },
                        "type": "scattermapbox"
                      }
                    ],
                    "scatterpolar": [
                      {
                        "marker": {
                          "colorbar": {
                            "outlinewidth": 0,
                            "ticks": ""
                          }
                        },
                        "type": "scatterpolar"
                      }
                    ],
                    "scatterpolargl": [
                      {
                        "marker": {
                          "colorbar": {
                            "outlinewidth": 0,
                            "ticks": ""
                          }
                        },
                        "type": "scatterpolargl"
                      }
                    ],
                    "scatterternary": [
                      {
                        "marker": {
                          "colorbar": {
                            "outlinewidth": 0,
                            "ticks": ""
                          }
                        },
                        "type": "scatterternary"
                      }
                    ],
                    "surface": [
                      {
                        "colorbar": {
                          "outlinewidth": 0,
                          "ticks": ""
                        },
                        "colorscale": [
                          [
                            0,
                            "#0d0887"
                          ],
                          [
                            0.1111111111111111,
                            "#46039f"
                          ],
                          [
                            0.2222222222222222,
                            "#7201a8"
                          ],
                          [
                            0.3333333333333333,
                            "#9c179e"
                          ],
                          [
                            0.4444444444444444,
                            "#bd3786"
                          ],
                          [
                            0.5555555555555556,
                            "#d8576b"
                          ],
                          [
                            0.6666666666666666,
                            "#ed7953"
                          ],
                          [
                            0.7777777777777778,
                            "#fb9f3a"
                          ],
                          [
                            0.8888888888888888,
                            "#fdca26"
                          ],
                          [
                            1,
                            "#f0f921"
                          ]
                        ],
                        "type": "surface"
                      }
                    ],
                    "table": [
                      {
                        "cells": {
                          "fill": {
                            "color": "#EBF0F8"
                          },
                          "line": {
                            "color": "white"
                          }
                        },
                        "header": {
                          "fill": {
                            "color": "#C8D4E3"
                          },
                          "line": {
                            "color": "white"
                          }
                        },
                        "type": "table"
                      }
                    ]
                  },
                  "layout": {
                    "annotationdefaults": {
                      "arrowcolor": "#2a3f5f",
                      "arrowhead": 0,
                      "arrowwidth": 1
                    },
                    "autotypenumbers": "strict",
                    "coloraxis": {
                      "colorbar": {
                        "outlinewidth": 0,
                        "ticks": ""
                      }
                    },
                    "colorscale": {
                      "diverging": [
                        [
                          0,
                          "#8e0152"
                        ],
                        [
                          0.1,
                          "#c51b7d"
                        ],
                        [
                          0.2,
                          "#de77ae"
                        ],
                        [
                          0.3,
                          "#f1b6da"
                        ],
                        [
                          0.4,
                          "#fde0ef"
                        ],
                        [
                          0.5,
                          "#f7f7f7"
                        ],
                        [
                          0.6,
                          "#e6f5d0"
                        ],
                        [
                          0.7,
                          "#b8e186"
                        ],
                        [
                          0.8,
                          "#7fbc41"
                        ],
                        [
                          0.9,
                          "#4d9221"
                        ],
                        [
                          1,
                          "#276419"
                        ]
                      ],
                      "sequential": [
                        [
                          0,
                          "#0d0887"
                        ],
                        [
                          0.1111111111111111,
                          "#46039f"
                        ],
                        [
                          0.2222222222222222,
                          "#7201a8"
                        ],
                        [
                          0.3333333333333333,
                          "#9c179e"
                        ],
                        [
                          0.4444444444444444,
                          "#bd3786"
                        ],
                        [
                          0.5555555555555556,
                          "#d8576b"
                        ],
                        [
                          0.6666666666666666,
                          "#ed7953"
                        ],
                        [
                          0.7777777777777778,
                          "#fb9f3a"
                        ],
                        [
                          0.8888888888888888,
                          "#fdca26"
                        ],
                        [
                          1,
                          "#f0f921"
                        ]
                      ],
                      "sequentialminus": [
                        [
                          0,
                          "#0d0887"
                        ],
                        [
                          0.1111111111111111,
                          "#46039f"
                        ],
                        [
                          0.2222222222222222,
                          "#7201a8"
                        ],
                        [
                          0.3333333333333333,
                          "#9c179e"
                        ],
                        [
                          0.4444444444444444,
                          "#bd3786"
                        ],
                        [
                          0.5555555555555556,
                          "#d8576b"
                        ],
                        [
                          0.6666666666666666,
                          "#ed7953"
                        ],
                        [
                          0.7777777777777778,
                          "#fb9f3a"
                        ],
                        [
                          0.8888888888888888,
                          "#fdca26"
                        ],
                        [
                          1,
                          "#f0f921"
                        ]
                      ]
                    },
                    "colorway": [
                      "#636efa",
                      "#EF553B",
                      "#00cc96",
                      "#ab63fa",
                      "#FFA15A",
                      "#19d3f3",
                      "#FF6692",
                      "#B6E880",
                      "#FF97FF",
                      "#FECB52"
                    ],
                    "font": {
                      "color": "#2a3f5f"
                    },
                    "geo": {
                      "bgcolor": "white",
                      "lakecolor": "white",
                      "landcolor": "#E5ECF6",
                      "showlakes": true,
                      "showland": true,
                      "subunitcolor": "white"
                    },
                    "hoverlabel": {
                      "align": "left"
                    },
                    "hovermode": "closest",
                    "mapbox": {
                      "style": "light"
                    },
                    "paper_bgcolor": "white",
                    "plot_bgcolor": "#E5ECF6",
                    "polar": {
                      "angularaxis": {
                        "gridcolor": "white",
                        "linecolor": "white",
                        "ticks": ""
                      },
                      "bgcolor": "#E5ECF6",
                      "radialaxis": {
                        "gridcolor": "white",
                        "linecolor": "white",
                        "ticks": ""
                      }
                    },
                    "scene": {
                      "xaxis": {
                        "backgroundcolor": "#E5ECF6",
                        "gridcolor": "white",
                        "gridwidth": 2,
                        "linecolor": "white",
                        "showbackground": true,
                        "ticks": "",
                        "zerolinecolor": "white"
                      },
                      "yaxis": {
                        "backgroundcolor": "#E5ECF6",
                        "gridcolor": "white",
                        "gridwidth": 2,
                        "linecolor": "white",
                        "showbackground": true,
                        "ticks": "",
                        "zerolinecolor": "white"
                      },
                      "zaxis": {
                        "backgroundcolor": "#E5ECF6",
                        "gridcolor": "white",
                        "gridwidth": 2,
                        "linecolor": "white",
                        "showbackground": true,
                        "ticks": "",
                        "zerolinecolor": "white"
                      }
                    },
                    "shapedefaults": {
                      "line": {
                        "color": "#2a3f5f"
                      }
                    },
                    "ternary": {
                      "aaxis": {
                        "gridcolor": "white",
                        "linecolor": "white",
                        "ticks": ""
                      },
                      "baxis": {
                        "gridcolor": "white",
                        "linecolor": "white",
                        "ticks": ""
                      },
                      "bgcolor": "#E5ECF6",
                      "caxis": {
                        "gridcolor": "white",
                        "linecolor": "white",
                        "ticks": ""
                      }
                    },
                    "title": {
                      "x": 0.05
                    },
                    "xaxis": {
                      "automargin": true,
                      "gridcolor": "white",
                      "linecolor": "white",
                      "ticks": "",
                      "title": {
                        "standoff": 15
                      },
                      "zerolinecolor": "white",
                      "zerolinewidth": 2
                    },
                    "yaxis": {
                      "automargin": true,
                      "gridcolor": "white",
                      "linecolor": "white",
                      "ticks": "",
                      "title": {
                        "standoff": 15
                      },
                      "zerolinecolor": "white",
                      "zerolinewidth": 2
                    }
                  }
                },
                "title": {
                  "text": "Sentiment Distribution"
                }
              }
            },
            "text/html": [
              "<div>                            <div id=\"434b63dd-e67f-4b27-9665-2c24e020fe20\" class=\"plotly-graph-div\" style=\"height:525px; width:100%;\"></div>            <script type=\"text/javascript\">                require([\"plotly\"], function(Plotly) {                    window.PLOTLYENV=window.PLOTLYENV || {};                                    if (document.getElementById(\"434b63dd-e67f-4b27-9665-2c24e020fe20\")) {                    Plotly.newPlot(                        \"434b63dd-e67f-4b27-9665-2c24e020fe20\",                        [{\"hoverinfo\":\"label+percent\",\"labels\":[\"neutral\",\"positive\",\"negative\"],\"marker\":{\"colors\":[\"#FEBFB3\",\"#E1396C\",\"#96D38C\"],\"line\":{\"color\":\"#000000\",\"width\":2}},\"textfont\":{\"size\":20},\"textinfo\":\"value\",\"values\":[445,245,82],\"type\":\"pie\"}],                        {\"title\":{\"text\":\"Sentiment Distribution\"},\"template\":{\"data\":{\"histogram2dcontour\":[{\"type\":\"histogram2dcontour\",\"colorbar\":{\"outlinewidth\":0,\"ticks\":\"\"},\"colorscale\":[[0.0,\"#0d0887\"],[0.1111111111111111,\"#46039f\"],[0.2222222222222222,\"#7201a8\"],[0.3333333333333333,\"#9c179e\"],[0.4444444444444444,\"#bd3786\"],[0.5555555555555556,\"#d8576b\"],[0.6666666666666666,\"#ed7953\"],[0.7777777777777778,\"#fb9f3a\"],[0.8888888888888888,\"#fdca26\"],[1.0,\"#f0f921\"]]}],\"choropleth\":[{\"type\":\"choropleth\",\"colorbar\":{\"outlinewidth\":0,\"ticks\":\"\"}}],\"histogram2d\":[{\"type\":\"histogram2d\",\"colorbar\":{\"outlinewidth\":0,\"ticks\":\"\"},\"colorscale\":[[0.0,\"#0d0887\"],[0.1111111111111111,\"#46039f\"],[0.2222222222222222,\"#7201a8\"],[0.3333333333333333,\"#9c179e\"],[0.4444444444444444,\"#bd3786\"],[0.5555555555555556,\"#d8576b\"],[0.6666666666666666,\"#ed7953\"],[0.7777777777777778,\"#fb9f3a\"],[0.8888888888888888,\"#fdca26\"],[1.0,\"#f0f921\"]]}],\"heatmap\":[{\"type\":\"heatmap\",\"colorbar\":{\"outlinewidth\":0,\"ticks\":\"\"},\"colorscale\":[[0.0,\"#0d0887\"],[0.1111111111111111,\"#46039f\"],[0.2222222222222222,\"#7201a8\"],[0.3333333333333333,\"#9c179e\"],[0.4444444444444444,\"#bd3786\"],[0.5555555555555556,\"#d8576b\"],[0.6666666666666666,\"#ed7953\"],[0.7777777777777778,\"#fb9f3a\"],[0.8888888888888888,\"#fdca26\"],[1.0,\"#f0f921\"]]}],\"heatmapgl\":[{\"type\":\"heatmapgl\",\"colorbar\":{\"outlinewidth\":0,\"ticks\":\"\"},\"colorscale\":[[0.0,\"#0d0887\"],[0.1111111111111111,\"#46039f\"],[0.2222222222222222,\"#7201a8\"],[0.3333333333333333,\"#9c179e\"],[0.4444444444444444,\"#bd3786\"],[0.5555555555555556,\"#d8576b\"],[0.6666666666666666,\"#ed7953\"],[0.7777777777777778,\"#fb9f3a\"],[0.8888888888888888,\"#fdca26\"],[1.0,\"#f0f921\"]]}],\"contourcarpet\":[{\"type\":\"contourcarpet\",\"colorbar\":{\"outlinewidth\":0,\"ticks\":\"\"}}],\"contour\":[{\"type\":\"contour\",\"colorbar\":{\"outlinewidth\":0,\"ticks\":\"\"},\"colorscale\":[[0.0,\"#0d0887\"],[0.1111111111111111,\"#46039f\"],[0.2222222222222222,\"#7201a8\"],[0.3333333333333333,\"#9c179e\"],[0.4444444444444444,\"#bd3786\"],[0.5555555555555556,\"#d8576b\"],[0.6666666666666666,\"#ed7953\"],[0.7777777777777778,\"#fb9f3a\"],[0.8888888888888888,\"#fdca26\"],[1.0,\"#f0f921\"]]}],\"surface\":[{\"type\":\"surface\",\"colorbar\":{\"outlinewidth\":0,\"ticks\":\"\"},\"colorscale\":[[0.0,\"#0d0887\"],[0.1111111111111111,\"#46039f\"],[0.2222222222222222,\"#7201a8\"],[0.3333333333333333,\"#9c179e\"],[0.4444444444444444,\"#bd3786\"],[0.5555555555555556,\"#d8576b\"],[0.6666666666666666,\"#ed7953\"],[0.7777777777777778,\"#fb9f3a\"],[0.8888888888888888,\"#fdca26\"],[1.0,\"#f0f921\"]]}],\"mesh3d\":[{\"type\":\"mesh3d\",\"colorbar\":{\"outlinewidth\":0,\"ticks\":\"\"}}],\"scatter\":[{\"fillpattern\":{\"fillmode\":\"overlay\",\"size\":10,\"solidity\":0.2},\"type\":\"scatter\"}],\"parcoords\":[{\"type\":\"parcoords\",\"line\":{\"colorbar\":{\"outlinewidth\":0,\"ticks\":\"\"}}}],\"scatterpolargl\":[{\"type\":\"scatterpolargl\",\"marker\":{\"colorbar\":{\"outlinewidth\":0,\"ticks\":\"\"}}}],\"bar\":[{\"error_x\":{\"color\":\"#2a3f5f\"},\"error_y\":{\"color\":\"#2a3f5f\"},\"marker\":{\"line\":{\"color\":\"#E5ECF6\",\"width\":0.5},\"pattern\":{\"fillmode\":\"overlay\",\"size\":10,\"solidity\":0.2}},\"type\":\"bar\"}],\"scattergeo\":[{\"type\":\"scattergeo\",\"marker\":{\"colorbar\":{\"outlinewidth\":0,\"ticks\":\"\"}}}],\"scatterpolar\":[{\"type\":\"scatterpolar\",\"marker\":{\"colorbar\":{\"outlinewidth\":0,\"ticks\":\"\"}}}],\"histogram\":[{\"marker\":{\"pattern\":{\"fillmode\":\"overlay\",\"size\":10,\"solidity\":0.2}},\"type\":\"histogram\"}],\"scattergl\":[{\"type\":\"scattergl\",\"marker\":{\"colorbar\":{\"outlinewidth\":0,\"ticks\":\"\"}}}],\"scatter3d\":[{\"type\":\"scatter3d\",\"line\":{\"colorbar\":{\"outlinewidth\":0,\"ticks\":\"\"}},\"marker\":{\"colorbar\":{\"outlinewidth\":0,\"ticks\":\"\"}}}],\"scattermapbox\":[{\"type\":\"scattermapbox\",\"marker\":{\"colorbar\":{\"outlinewidth\":0,\"ticks\":\"\"}}}],\"scatterternary\":[{\"type\":\"scatterternary\",\"marker\":{\"colorbar\":{\"outlinewidth\":0,\"ticks\":\"\"}}}],\"scattercarpet\":[{\"type\":\"scattercarpet\",\"marker\":{\"colorbar\":{\"outlinewidth\":0,\"ticks\":\"\"}}}],\"carpet\":[{\"aaxis\":{\"endlinecolor\":\"#2a3f5f\",\"gridcolor\":\"white\",\"linecolor\":\"white\",\"minorgridcolor\":\"white\",\"startlinecolor\":\"#2a3f5f\"},\"baxis\":{\"endlinecolor\":\"#2a3f5f\",\"gridcolor\":\"white\",\"linecolor\":\"white\",\"minorgridcolor\":\"white\",\"startlinecolor\":\"#2a3f5f\"},\"type\":\"carpet\"}],\"table\":[{\"cells\":{\"fill\":{\"color\":\"#EBF0F8\"},\"line\":{\"color\":\"white\"}},\"header\":{\"fill\":{\"color\":\"#C8D4E3\"},\"line\":{\"color\":\"white\"}},\"type\":\"table\"}],\"barpolar\":[{\"marker\":{\"line\":{\"color\":\"#E5ECF6\",\"width\":0.5},\"pattern\":{\"fillmode\":\"overlay\",\"size\":10,\"solidity\":0.2}},\"type\":\"barpolar\"}],\"pie\":[{\"automargin\":true,\"type\":\"pie\"}]},\"layout\":{\"autotypenumbers\":\"strict\",\"colorway\":[\"#636efa\",\"#EF553B\",\"#00cc96\",\"#ab63fa\",\"#FFA15A\",\"#19d3f3\",\"#FF6692\",\"#B6E880\",\"#FF97FF\",\"#FECB52\"],\"font\":{\"color\":\"#2a3f5f\"},\"hovermode\":\"closest\",\"hoverlabel\":{\"align\":\"left\"},\"paper_bgcolor\":\"white\",\"plot_bgcolor\":\"#E5ECF6\",\"polar\":{\"bgcolor\":\"#E5ECF6\",\"angularaxis\":{\"gridcolor\":\"white\",\"linecolor\":\"white\",\"ticks\":\"\"},\"radialaxis\":{\"gridcolor\":\"white\",\"linecolor\":\"white\",\"ticks\":\"\"}},\"ternary\":{\"bgcolor\":\"#E5ECF6\",\"aaxis\":{\"gridcolor\":\"white\",\"linecolor\":\"white\",\"ticks\":\"\"},\"baxis\":{\"gridcolor\":\"white\",\"linecolor\":\"white\",\"ticks\":\"\"},\"caxis\":{\"gridcolor\":\"white\",\"linecolor\":\"white\",\"ticks\":\"\"}},\"coloraxis\":{\"colorbar\":{\"outlinewidth\":0,\"ticks\":\"\"}},\"colorscale\":{\"sequential\":[[0.0,\"#0d0887\"],[0.1111111111111111,\"#46039f\"],[0.2222222222222222,\"#7201a8\"],[0.3333333333333333,\"#9c179e\"],[0.4444444444444444,\"#bd3786\"],[0.5555555555555556,\"#d8576b\"],[0.6666666666666666,\"#ed7953\"],[0.7777777777777778,\"#fb9f3a\"],[0.8888888888888888,\"#fdca26\"],[1.0,\"#f0f921\"]],\"sequentialminus\":[[0.0,\"#0d0887\"],[0.1111111111111111,\"#46039f\"],[0.2222222222222222,\"#7201a8\"],[0.3333333333333333,\"#9c179e\"],[0.4444444444444444,\"#bd3786\"],[0.5555555555555556,\"#d8576b\"],[0.6666666666666666,\"#ed7953\"],[0.7777777777777778,\"#fb9f3a\"],[0.8888888888888888,\"#fdca26\"],[1.0,\"#f0f921\"]],\"diverging\":[[0,\"#8e0152\"],[0.1,\"#c51b7d\"],[0.2,\"#de77ae\"],[0.3,\"#f1b6da\"],[0.4,\"#fde0ef\"],[0.5,\"#f7f7f7\"],[0.6,\"#e6f5d0\"],[0.7,\"#b8e186\"],[0.8,\"#7fbc41\"],[0.9,\"#4d9221\"],[1,\"#276419\"]]},\"xaxis\":{\"gridcolor\":\"white\",\"linecolor\":\"white\",\"ticks\":\"\",\"title\":{\"standoff\":15},\"zerolinecolor\":\"white\",\"automargin\":true,\"zerolinewidth\":2},\"yaxis\":{\"gridcolor\":\"white\",\"linecolor\":\"white\",\"ticks\":\"\",\"title\":{\"standoff\":15},\"zerolinecolor\":\"white\",\"automargin\":true,\"zerolinewidth\":2},\"scene\":{\"xaxis\":{\"backgroundcolor\":\"#E5ECF6\",\"gridcolor\":\"white\",\"linecolor\":\"white\",\"showbackground\":true,\"ticks\":\"\",\"zerolinecolor\":\"white\",\"gridwidth\":2},\"yaxis\":{\"backgroundcolor\":\"#E5ECF6\",\"gridcolor\":\"white\",\"linecolor\":\"white\",\"showbackground\":true,\"ticks\":\"\",\"zerolinecolor\":\"white\",\"gridwidth\":2},\"zaxis\":{\"backgroundcolor\":\"#E5ECF6\",\"gridcolor\":\"white\",\"linecolor\":\"white\",\"showbackground\":true,\"ticks\":\"\",\"zerolinecolor\":\"white\",\"gridwidth\":2}},\"shapedefaults\":{\"line\":{\"color\":\"#2a3f5f\"}},\"annotationdefaults\":{\"arrowcolor\":\"#2a3f5f\",\"arrowhead\":0,\"arrowwidth\":1},\"geo\":{\"bgcolor\":\"white\",\"landcolor\":\"#E5ECF6\",\"subunitcolor\":\"white\",\"showland\":true,\"showlakes\":true,\"lakecolor\":\"white\"},\"title\":{\"x\":0.05},\"mapbox\":{\"style\":\"light\"}}}},                        {\"responsive\": true}                    ).then(function(){\n",
              "                            \n",
              "var gd = document.getElementById('434b63dd-e67f-4b27-9665-2c24e020fe20');\n",
              "var x = new MutationObserver(function (mutations, observer) {{\n",
              "        var display = window.getComputedStyle(gd).display;\n",
              "        if (!display || display === 'none') {{\n",
              "            console.log([gd, 'removed!']);\n",
              "            Plotly.purge(gd);\n",
              "            observer.disconnect();\n",
              "        }}\n",
              "}});\n",
              "\n",
              "// Listen for the removal of the full notebook cells\n",
              "var notebookContainer = gd.closest('#notebook-container');\n",
              "if (notebookContainer) {{\n",
              "    x.observe(notebookContainer, {childList: true});\n",
              "}}\n",
              "\n",
              "// Listen for the clearing of the current output cell\n",
              "var outputEl = gd.closest('.output');\n",
              "if (outputEl) {{\n",
              "    x.observe(outputEl, {childList: true});\n",
              "}}\n",
              "\n",
              "                        })                };                });            </script>        </div>"
            ]
          },
          "metadata": {},
          "output_type": "display_data"
        },
        {
          "data": {
            "text/plain": [
              "'sentiment_distribution.html'"
            ]
          },
          "execution_count": 106,
          "metadata": {},
          "output_type": "execute_result"
        }
      ],
      "source": [
        "import chart_studio.plotly as py\n",
        "import plotly as ply\n",
        "import cufflinks as cf\n",
        "from plotly.offline import *\n",
        "from plotly.graph_objs import *\n",
        "\n",
        "init_notebook_mode(connected=True)\n",
        "cf.set_config_file(offline=True, world_readable=True, theme='white')\n",
        "\n",
        "sentiment_df=pd.DataFrame(twt['sentiment_label'].value_counts().reset_index())\n",
        "sentiment_df.columns=['sentiment','count']\n",
        "\n",
        "sentiment_df[\"percentage\"]=100*sentiment_df[\"count\"]/sentiment_df[\"count\"].sum()\n",
        "sentiment_Max=sentiment_df.iloc[0,0]\n",
        "sentiment_percent=str(round(sentiment_df.iloc[0,2],2))+\"%\"\n",
        "# plot pie chart for the sentiment_df dataframe sentiment vs count\n",
        "labels = sentiment_df['sentiment']\n",
        "values = sentiment_df['count']\n",
        "colors = ['#FEBFB3', '#E1396C', '#96D38C']\n",
        "trace = ply.graph_objs.Pie(labels=labels, values=values, textinfo='value',hoverinfo='label+percent',\n",
        "                textfont=dict(size=20),\n",
        "                marker=dict(colors=colors,\n",
        "                            line=dict(color='#000000', width=2)))\n",
        "layout = ply.graph_objs.Layout(title=\"Sentiment Distribution\")\n",
        "fig = ply.graph_objs.Figure(data=[trace], layout=layout)\n",
        "fig.show()\n",
        "ply.offline.plot(fig, filename='sentiment_distribution.html')"
      ]
    },
    {
      "attachments": {},
      "cell_type": "markdown",
      "metadata": {},
      "source": [
        "## Emotion Analysis"
      ]
    },
    {
      "cell_type": "code",
      "execution_count": 107,
      "metadata": {},
      "outputs": [
        {
          "data": {
            "text/html": [
              "        <script type=\"text/javascript\">\n",
              "        window.PlotlyConfig = {MathJaxConfig: 'local'};\n",
              "        if (window.MathJax && window.MathJax.Hub && window.MathJax.Hub.Config) {window.MathJax.Hub.Config({SVG: {font: \"STIX-Web\"}});}\n",
              "        if (typeof require !== 'undefined') {\n",
              "        require.undef(\"plotly\");\n",
              "        requirejs.config({\n",
              "            paths: {\n",
              "                'plotly': ['https://cdn.plot.ly/plotly-2.17.1.min']\n",
              "            }\n",
              "        });\n",
              "        require(['plotly'], function(Plotly) {\n",
              "            window._Plotly = Plotly;\n",
              "        });\n",
              "        }\n",
              "        </script>\n",
              "        "
            ]
          },
          "metadata": {},
          "output_type": "display_data"
        },
        {
          "data": {
            "text/html": [
              "        <script type=\"text/javascript\">\n",
              "        window.PlotlyConfig = {MathJaxConfig: 'local'};\n",
              "        if (window.MathJax && window.MathJax.Hub && window.MathJax.Hub.Config) {window.MathJax.Hub.Config({SVG: {font: \"STIX-Web\"}});}\n",
              "        if (typeof require !== 'undefined') {\n",
              "        require.undef(\"plotly\");\n",
              "        requirejs.config({\n",
              "            paths: {\n",
              "                'plotly': ['https://cdn.plot.ly/plotly-2.17.1.min']\n",
              "            }\n",
              "        });\n",
              "        require(['plotly'], function(Plotly) {\n",
              "            window._Plotly = Plotly;\n",
              "        });\n",
              "        }\n",
              "        </script>\n",
              "        "
            ]
          },
          "metadata": {},
          "output_type": "display_data"
        },
        {
          "data": {
            "text/plain": [
              "'emotion.html'"
            ]
          },
          "execution_count": 107,
          "metadata": {},
          "output_type": "execute_result"
        }
      ],
      "source": [
        "init_notebook_mode(connected=True)\n",
        "cf.set_config_file(offline=True, world_readable=True, theme='white')\n",
        "\n",
        "emotion_df=pd.DataFrame(twt['emotion'].value_counts().reset_index())\n",
        "emotion_df.columns=['emotion','count']\n",
        "emotion_df=pd.DataFrame(emotion_df)\n",
        "emotion_df[\"percentage\"]=100*emotion_df[\"count\"]/sentiment_df[\"count\"].sum()\n",
        "emotion_df[\"emotion\"]=emotion_df['emotion'].apply(lambda x: mapper[x])\n",
        "emotion_Max=emotion_df.iloc[0,0]\n",
        "emotion_percent=str(round(sentiment_df.iloc[0,2],2))+\"%\"\n",
        "\n",
        "fig=emotion_df.iplot(kind=\"pie\",labels=\"emotion\",values=\"count\",pull=.2,hole=.2,colorscale='reds',textposition='outside',colors=['red','green','purple','orange'],title=\"Emotion Analysis of Tweets\",world_readable=True,asFigure=True)\n",
        "ply.offline.plot(fig,filename='emotion.html')"
      ]
    },
    {
      "attachments": {},
      "cell_type": "markdown",
      "metadata": {},
      "source": [
        "## Emotion and Sentiment Analysis"
      ]
    },
    {
      "cell_type": "code",
      "execution_count": 108,
      "metadata": {},
      "outputs": [
        {
          "name": "stderr",
          "output_type": "stream",
          "text": [
            "C:\\Users\\USER\\AppData\\Local\\Temp\\ipykernel_17676\\3928076892.py:4: FutureWarning:\n",
            "\n",
            "`sort_columns` is deprecated and will be removed in a future version.\n",
            "\n"
          ]
        },
        {
          "data": {
            "image/png": "[encoded data removed]",
            "text/plain": [
              "<Figure size 1170x827 with 1 Axes>"
            ]
          },
          "metadata": {},
          "output_type": "display_data"
        }
      ],
      "source": [
        "import seaborn as sns\n",
        "sns.set(rc={'figure.figsize':(11.7,8.27)})\n",
        "result = pd.crosstab(twt['emotion'], twt['sentiment_label'])\n",
        "plt = result.plot.bar(stacked=True, sort_columns = True)\n",
        "plt.legend(title='Sentiment_label')\n",
        "plt.figure.savefig('sentiment_label.png', dpi=400)"
      ]
    },
    {
      "attachments": {},
      "cell_type": "markdown",
      "metadata": {},
      "source": [
        "## Automated Reporting"
      ]
    },
    {
      "cell_type": "code",
      "execution_count": 116,
      "metadata": {},
      "outputs": [
        {
          "data": {
            "text/plain": [
              "'Email Sent Successfully'"
            ]
          },
          "execution_count": 116,
          "metadata": {},
          "output_type": "execute_result"
        }
      ],
      "source": [
        "from email.mime.text import MIMEText\n",
        "from email.mime.multipart import MIMEMultipart\n",
        "from email.mime.application import MIMEApplication\n",
        "from email import encoders\n",
        "import os\n",
        "import smtplib\n",
        "from credentials import Credentials\n",
        "def generate_email():\n",
        "    dir_path = os.getcwd()\n",
        "    files = [\"emotion.html\", \"sentiment_distribution.html\", \"sentiment_label.png\"]\n",
        "    company_dict = ['daliselmi30@gmail.com']\n",
        "    password = Credentials.PASSWORD.value\n",
        "    for value in company_dict:\n",
        "        subject = 'Emotion Detection and Sentiment Analysis Report'\n",
        "        from_address = Credentials.EMAIL.value\n",
        "        to_address = value\n",
        "        msg = MIMEMultipart()\n",
        "        msg['Subject'] = subject\n",
        "        msg['From'] = from_address\n",
        "        msg['To'] = to_address\n",
        "        body = \"Hi \\n Please find the attached report for the Emotion Detection and Sentiment Analysis \\n Thanks\"\n",
        "        msg.attach(MIMEText(body, 'plain'))\n",
        "        for f in files:\n",
        "            file_location = os.path.join(dir_path, f)\n",
        "            attachment = MIMEApplication(open(file_location, \"rb\").read(), _subtype=\"txt\")\n",
        "            attachment.add_header('Content-Disposition', \"attachment\", filename=f)\n",
        "            msg.attach(attachment)\n",
        "        stmp = smtplib.SMTP('smtp.gmail.com', 587)\n",
        "        stmp.connect('smtp.gmail.com', 587)\n",
        "        stmp.ehlo()\n",
        "        stmp.starttls()\n",
        "        stmp.ehlo()\n",
        "        stmp.login(from_address, password)\n",
        "        text = msg.as_string()\n",
        "        stmp.sendmail(from_address, to_address, text)\n",
        "        stmp.quit()\n",
        "        return \"Email Sent Successfully\"\n",
        "generate_email()"
      ]
    },
    {
      "attachments": {},
      "cell_type": "markdown",
      "metadata": {},
      "source": [
        "## Conclusion\n",
        "\n",
        "\n",
        "Now that we completed all the phases of the project, head to `auto.py` to see how we put it all together to create and automated pipeline to pull the data from Twitter, preprocess it, and predict the emotions and sentiment of the tweets. Also, we generate a report and send it to a given set of e-mail addresses."
      ]
    },
    {
      "attachments": {},
      "cell_type": "markdown",
      "metadata": {},
      "source": [
        "## References\n",
        "\n",
        "- https://www.kaggle.com/praveengovi/emotions-dataset-for-nlp\n",
        "- Akshay Kulkarni, Adarsha Shivananda and Anoosh Kulkarni\n",
        "- A. Kulkarni et al., Natural Language Processing Projects, https://doi.org/10.1007/978-1-4842-7386-9_2"
      ]
    }
  ],
  "metadata": {
    "accelerator": "GPU",
    "colab": {
      "gpuType": "T4",
      "provenance": []
    },
    "gpuClass": "standard",
    "kernelspec": {
      "display_name": "Python 3",
      "name": "python3"
    },
    "language_info": {
      "codemirror_mode": {
        "name": "ipython",
        "version": 3
      },
      "file_extension": ".py",
      "mimetype": "text/x-python",
      "name": "python",
      "nbconvert_exporter": "python",
      "pygments_lexer": "ipython3",
      "version": "3.10.9"
    }
  },
  "nbformat": 4,
  "nbformat_minor": 0
}
